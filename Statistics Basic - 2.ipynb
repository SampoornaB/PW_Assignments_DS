{
 "cells": [
  {
   "cell_type": "code",
   "execution_count": 1,
   "id": "c5c181fc-7fff-48b2-81d2-e2253cc65ffa",
   "metadata": {},
   "outputs": [],
   "source": [
    "#Q1. The three measures of central tendency"
   ]
  },
  {
   "cell_type": "markdown",
   "id": "fb3549ed-b86d-4709-95fb-b472c3808365",
   "metadata": {},
   "source": [
    "The three common measures of central tendency are:\n",
    "\n",
    "1. Mean: The mean, also known as the average, is calculated by summing up all the values in a dataset and dividing by the total number of observations. It represents the arithmetic center of the data and is sensitive to extreme values.\n",
    "\n",
    "2. Median: The median is the middle value in a dataset when the values are arranged in ascending or descending order. It divides the dataset into two equal halves, with 50% of the observations falling below and 50% above the median. The median is not affected by extreme values and is useful when dealing with skewed or non-normally distributed data.\n",
    "\n",
    "3. Mode: The mode is the value or values that occur most frequently in a dataset. It represents the peak or most common value(s) in the data. Unlike the mean and median, the mode can be used for both numerical and categorical data. A dataset can have one mode (unimodal), multiple modes (multimodal), or no mode."
   ]
  },
  {
   "cell_type": "code",
   "execution_count": 2,
   "id": "c7dfcd20-5445-428f-8aca-cb74a3f31183",
   "metadata": {},
   "outputs": [],
   "source": [
    "#Q2. Difference between the mean, median and mode and their usage to measure the central tendency of a dataset"
   ]
  },
  {
   "cell_type": "markdown",
   "id": "f718a972-bb30-4a3f-8ce5-6aa8cd1b13ea",
   "metadata": {},
   "source": [
    "|Mean|Median|Mode|\n",
    "|---|---|---|\n",
    "|The average taken of given observations is called mean.|The middle number in a given set of observations is called median.|The most frequently occurred number in a given set of observations is called mode.|\n",
    "|Mean is affected by outliers.|Median is not affected by outliers.|Mode is not directly affected by outliers in a dataset.|\n",
    "|Adding up all the numbers and divided by the total number of terms gives us the mean. The mean is usually represented by the Greek letter μ; <p style = 'text-align: center;'> $ μ = \\frac{\\sum{x_i}}{n} $ </p>|Placing all the numbers in ascending or descending order we take out the middle number, which is our median. When series have even numbers, median is the simple average of the middle pair of numbers. If the number of data points is odd, the middle number is the median, meaning we take the $ (\\frac{n+1}{2})^{th} $ value. If the number of data points is even, then we take the mean value of the middle two values. This means we take mean of the $ (\\frac{n}{2})^{th} $ and $ (\\frac{n+2}{2})^{th} $ value.|The mode is derived when a number has occurred more than once in our dataset. There cab be one modal value or more than one modal values. It is possible to have no mode at all, as well. The mode is the most frequently occurring observation or value.|\n",
    "|When data is normally distributed, the mean is widely preferred. The mean is used to measure the central tendency of a dataset by providing an average or typical value that represents the dataset as a whole.|When data distribution is skewed, median is the best representative. The median is used as a measure of central tendency to represent the middle value in a dataset. It provides information about the location of the 'center' of the data distribution.|When there is a nominal distribution of data, mode is preferred. The mode is primarily used to describe the distribution of categorical or discrete data. It identifies the value(s) that occur with the highest frequency, providing insights into the typical category or the most common occurrence within a dataset.|"
   ]
  },
  {
   "cell_type": "code",
   "execution_count": 3,
   "id": "3fb9b94d-b059-4feb-ab78-0d87a4cea105",
   "metadata": {},
   "outputs": [
    {
     "name": "stdout",
     "output_type": "stream",
     "text": [
      "\n",
      "Central Tendency     Value     \n",
      "\n",
      "Mean                 177.01875 \n",
      "Median               177.0     \n",
      "Mode                 177.0, 178.0\n"
     ]
    }
   ],
   "source": [
    "#Q3. Measuring the three measures of central tendency for the given height data\n",
    "\n",
    "import pandas\n",
    "\n",
    "\n",
    "heights = [178, 177, 176, 177, 178.2, 178, 175, 179, 180, 175, 178.9, 176.2, 177, 172.5, 178, 176.5]\n",
    "\n",
    "height_df = pandas.DataFrame({'heights': heights})\n",
    "\n",
    "mean = height_df['heights'].mean()\n",
    "median = height_df['heights'].median()\n",
    "mode = str(height_df['heights'].mode().values.tolist()).strip('[]')\n",
    "\n",
    "data = {'Mean': mean,\n",
    "        'Median': median,\n",
    "        'Mode': mode\n",
    "       }\n",
    "\n",
    "print('\\n{:<20} {:<10}\\n'.format('Central Tendency', 'Value'))\n",
    "\n",
    "for s, v in data.items():\n",
    "    print('{:<20} {:<10}'.format(s, v))"
   ]
  },
  {
   "cell_type": "code",
   "execution_count": 4,
   "id": "e5fe33ce-7379-461d-9d65-77de617558cd",
   "metadata": {},
   "outputs": [
    {
     "name": "stdout",
     "output_type": "stream",
     "text": [
      "The standard deviation of the given data is 1.847238930584419.\n"
     ]
    }
   ],
   "source": [
    "#Q4. Finding the standard deviation for the given data\n",
    "\n",
    "import pandas\n",
    "\n",
    "\n",
    "data = [178, 177, 176, 177, 178.2, 178, 175, 179, 180, 175, 178.9, 176.2, 177, 172.5, 178, 176.5]\n",
    "\n",
    "data_df = pandas.DataFrame({'Data': data})\n",
    "\n",
    "std = data_df['Data'].std()\n",
    "\n",
    "print(f'The standard deviation of the given data is {std}.')"
   ]
  },
  {
   "cell_type": "code",
   "execution_count": 5,
   "id": "5f2df477-57bc-490f-a515-435a732b8652",
   "metadata": {},
   "outputs": [],
   "source": [
    "#Q5. Use of range, variance, and standard deviation to describe the spread of a dataset along with an example to describe them"
   ]
  },
  {
   "cell_type": "markdown",
   "id": "f6ed5827-eaa0-4540-b7bb-00388c3f040b",
   "metadata": {},
   "source": [
    "1. Range: The range is the simplest measure of spread and represents the difference between the maximum and minimum values in a dataset. It provides an idea of the total span of the data. For example: We consider a dataset representing the ages of individuals in a group: {20, 25, 30, 35, 40}. The range in this case is calculated as the difference between the maximum value (40) and the minimum value (20), which is 20. Therefore, the range of the dataset is 20 years.\n",
    "\n",
    "2. Variance: Variance quantifies the average squared deviation of each data point from the mean of the dataset. It gives a measure of how much the individual values deviate from the mean. For example: We continue with the ages dataset. To calculate the variance, first, we find the mean age by summing up all the values (20 + 25 + 30 + 35 + 40) and dividing by the total count (5). The mean age is 30 years. Then, we calculate the squared difference of each value from the mean: $ (20 - 30)^2 $, $ (25 - 30)^2 $, $ (30 - 30)^2 $, $ (35 - 30)^2 $, and $ (40 - 30)^2 $. Summing up these squared differences and dividing by the count (5) gives the variance. The sum of squared differences is 250. The variance is 50.\n",
    "\n",
    "3. Standard Deviation: The standard deviation is the square root of the variance. It provides a measure of the average distance between each data point and the mean. The standard deviation is often preferred as it is in the same unit as the original data. For example: Building on the ages dataset, the standard deviation is obtained by taking the square root of the variance calculated earlier. If the variance is 50, the standard deviation is the square root of 50, which is approximately 7.07 years."
   ]
  },
  {
   "cell_type": "code",
   "execution_count": 6,
   "id": "78da11e9-d793-4427-8d09-13987573912e",
   "metadata": {},
   "outputs": [],
   "source": [
    "#Q6. Venn diagram"
   ]
  },
  {
   "cell_type": "markdown",
   "id": "42d4045d-f64c-40a4-b9b7-66458cc84a2b",
   "metadata": {},
   "source": [
    "Venn diagrams are visual representations used to illustrate the relationships and overlaps between different sets or groups of objects, elements, or concepts. They were introduced by the English mathematician John Venn in the late $ 19^{th} $ century. A Venn diagram consists of circles (or other closed curves) that represent sets, with each circle representing a different set. The overlapping regions of the circles indicate the elements or characteristics that are common to multiple sets."
   ]
  },
  {
   "cell_type": "code",
   "execution_count": 7,
   "id": "af403e00-4f44-43e1-8250-152ebbc89439",
   "metadata": {},
   "outputs": [],
   "source": [
    "#Q7. Finding the following for the given sets; A = (2, 3, 4, 5, 6, 7) & B = (0, 2, 6, 8, 10)"
   ]
  },
  {
   "cell_type": "markdown",
   "id": "e953d315-6440-4694-9d9c-1e75146eac0d",
   "metadata": {},
   "source": [
    "    (i) A ∩ B = (2, 6)\n",
    "\n",
    "    (ii) A ∪ B = (0, 2, 3, 4, 5, 6, 7, 8, 10)"
   ]
  },
  {
   "cell_type": "code",
   "execution_count": 8,
   "id": "be06cea2-525a-4596-8acd-28d001eb8532",
   "metadata": {},
   "outputs": [],
   "source": [
    "#Q8. Understanding skewness in data"
   ]
  },
  {
   "cell_type": "markdown",
   "id": "238354c0-7c62-4d42-936c-a586c65456ac",
   "metadata": {},
   "source": [
    "Skewness in data refers to the asymmetry or departure from symmetry in the distribution of values. It measures the extent to which a dataset deviates from a symmetrical, bell-shaped distribution (known as a normal distribution).\n",
    "\n",
    "Skewness can be characterized as either positive skewness or negative skewness:\n",
    "\n",
    "- Positive Skewness: A positively skewed distribution has a longer or fatter tail on the right side of the distribution. In other words, the majority of values are concentrated towards the left side of the distribution, while a few larger values extend the tail towards the right. The mean of a positively skewed distribution tends to be greater than the median.\n",
    "\n",
    "- Negative Skewness: A negatively skewed distribution has a longer or fatter tail on the left side of the distribution. The majority of values are concentrated towards the right side of the distribution, while a few smaller values extend the tail towards the left. The mean of a negatively skewed distribution tends to be smaller than the median."
   ]
  },
  {
   "cell_type": "code",
   "execution_count": 9,
   "id": "d810dbbd-4814-46e8-a31f-d83b81532076",
   "metadata": {},
   "outputs": [],
   "source": [
    "#Q9. Position of median with respect to mean in right skewed data"
   ]
  },
  {
   "cell_type": "markdown",
   "id": "9840ba06-9d82-4677-8cae-ff37e8a72700",
   "metadata": {},
   "source": [
    "In a right skewed or positively skewed data, mean is greater than the median of tha data. Thus median is on the left-side of the mean."
   ]
  },
  {
   "cell_type": "code",
   "execution_count": 10,
   "id": "4f9b2ca6-b014-4a6c-8152-fb6b0f219ccc",
   "metadata": {},
   "outputs": [],
   "source": [
    "#Q10. Difference between covariance and correlation"
   ]
  },
  {
   "cell_type": "markdown",
   "id": "d6a86597-5ab7-4b70-8576-82976c29d4bb",
   "metadata": {},
   "source": [
    "|Covariance|Correlation|\n",
    "|---|---|\n",
    "|Covariance indicates how two random variables are dependent on each other. It indicates the direction and magnitude of the linear relationship between two variables. A positive covariance suggests that the variables tend to move in the same direction, while a negative covariance suggests they move in opposite directions.|Correlation indicates how strongly these two variables are related, provided other conditions are constant. The maximum value is +1, representing a perfect dependent relationship, -1 represents a perfect negative correlation, and 0 indicates no linear relationship.|\n",
    "|We can deduce Correlation from a Covariance.|Correlation provides a measure of Covariance on a standard scale. It is deduced by dividing the calculated Covariance by the standard deviation.|\n",
    "|The value of Covariance lies in the range of -∞ and +∞.|Correlation is limited to values between the range -1 and +1.|\n",
    "|Covariance has a definite unit as deduced by the multiplication of two numbers and their units.|Correlation is a unitless absolute number between -1 and +1, including decimal values.|\n",
    "\n",
    "### Uses of Covariance and Correlation\n",
    "\n",
    "1. Relationship Analysis: Covariance and correlation help in understanding how changes in one variable are associated with changes in another variable. They are used to identify and measure the strength of relationships in fields such as finance, economics, social sciences, and data analysis.\n",
    "\n",
    "2. Variable Selection: In feature selection or model building, covariance and correlation are employed to assess the interdependence between variables. They help identify variables that are highly correlated with the target variable or with each other, aiding in the selection of relevant and independent variables.\n",
    "\n",
    "3. Data Exploration: Covariance and correlation matrices provide valuable insights into the relationships among multiple variables in exploratory data analysis. They can reveal patterns and dependencies that assist in forming hypotheses or identifying areas for further investigation."
   ]
  },
  {
   "cell_type": "code",
   "execution_count": 11,
   "id": "df85c9a4-ea49-4cd4-8a92-c5b12f20809a",
   "metadata": {},
   "outputs": [],
   "source": [
    "#Q11. Formula for calculating the sample mean along with an example calculation to illustrate it"
   ]
  },
  {
   "cell_type": "markdown",
   "id": "89fd795f-075f-4942-a0cf-7ccfb7e783f6",
   "metadata": {},
   "source": [
    "Sample mean represents the measure of the center of the data. Sample Mean refers to the mean value of a sample of data calculated from within a large population of data. It is a good tool to assess the population mean if the sample size is large and the statistical researchers randomly take fragments from the population. \n",
    "\n",
    "We can use the following steps to calculate the sample mean of a dataset:-\n",
    "\n",
    "1. Adding up the sample items - First, we will need to count how many sample items you have within a data set and add up the total amount of items.\n",
    "\n",
    "2. Dividing sum by the number of samples - Next, we divide the sum from step one by the total number of items in the dataset.\n",
    "\n",
    "3. The result is the mean - After dividing, the resulting quotient becomes our sample mean, or average.\n",
    "\n",
    "### Formula for calculating sample mean\n",
    "\n",
    "<p style = 'text-align: center;'> $ s =  \\frac{\\sum{x_i}}{n} $ </p>"
   ]
  },
  {
   "cell_type": "code",
   "execution_count": 12,
   "id": "68bd8b3b-f911-4a92-bb2b-4c50b19ec699",
   "metadata": {},
   "outputs": [
    {
     "name": "stdout",
     "output_type": "stream",
     "text": [
      "The sample mean of the total_bill dataset is 18.96458333333333.\n"
     ]
    }
   ],
   "source": [
    "### Example calculation for a dataset\n",
    "\n",
    "import seaborn\n",
    "\n",
    "\n",
    "tips = seaborn.load_dataset('tips')\n",
    "\n",
    "sample_data = tips['total_bill'].sample(frac = 0.1).tolist()        # Extracting a random sample data from the population data of 'total_bill'\n",
    "\n",
    "sample_mean = sum(sample_data)/len(sample_data)        # Adding the sample data and then dividing the sum with number of elements in the sample data\n",
    "\n",
    "print(f'The sample mean of the total_bill dataset is {sample_mean}.')"
   ]
  },
  {
   "cell_type": "code",
   "execution_count": 13,
   "id": "c098aa66-1f2e-40df-95aa-bb61010c312f",
   "metadata": {},
   "outputs": [],
   "source": [
    "#Q12. Relationship between the measures of central tendency for a normal distribution"
   ]
  },
  {
   "cell_type": "markdown",
   "id": "f5b063ea-6764-4367-bfb5-d5d2b780d65b",
   "metadata": {},
   "source": [
    "For a normal distribution, the three measures of central tendency — mean, median, and mode — have a specific relationship:\n",
    "\n",
    "- Mean: In a normal distribution, the mean is located at the center of the distribution. It is equal to the median, and both are positioned at the peak of the symmetrical bell-shaped curve. This is a key characteristic of the normal distribution, where the mean divides the distribution into two equal halves.\n",
    "\n",
    "- Median: The median of a normal distribution is the same as the mean. It represents the middle value in the dataset when the values are arranged in ascending or descending order. Since the normal distribution is symmetric, the median falls at the highest point of the curve, which is also where the mean is located.\n",
    "\n",
    "- Mode: The mode of a normal distribution is also equal to the mean and the median. In a perfectly symmetrical normal distribution, there is a single peak, and that peak represents the most frequently occurring value—the mode. Therefore, the mode coincides with both the mean and median."
   ]
  },
  {
   "cell_type": "code",
   "execution_count": 14,
   "id": "41965ad3-8e2a-4c3d-9d40-25e91a738586",
   "metadata": {},
   "outputs": [],
   "source": [
    "#Q13. Difference between covariance and correlation"
   ]
  },
  {
   "cell_type": "markdown",
   "id": "1107b608-53e0-4049-9520-fef4069bda49",
   "metadata": {},
   "source": [
    "Covariance and correlation both measure the relationship between two variables, covariance is affected by the scales of the variables and lacks a standardized interpretation of strength. Correlation, on the other hand, is scale-independent, provides a standardized interpretation of strength and direction, and allows for easier comparison across different datasets. Correlation is generally considered a more useful and informative measure when assessing the linear relationship between variables."
   ]
  },
  {
   "cell_type": "code",
   "execution_count": 15,
   "id": "11ac912f-22bd-435b-8774-055e3d980dbf",
   "metadata": {},
   "outputs": [],
   "source": [
    "#Q14. Outliers affecting measures of central tendency and dispersion along with example"
   ]
  },
  {
   "cell_type": "markdown",
   "id": "ea7a7706-268e-4cd2-8c8e-6dd240a03a33",
   "metadata": {},
   "source": [
    "Outliers can significantly impact measures of central tendency and dispersion, influencing their values and potentially distorting the overall representation of the data.\n",
    "\n",
    "## Measures of Central Tendency\n",
    "\n",
    "1. Mean: Outliers can have a notable impact on the mean since it is sensitive to extreme values. Even a single outlier that is significantly larger or smaller than the other data points can shift the mean towards that extreme value.\n",
    "\n",
    "2. Median: The median is less affected by outliers since it represents the middle value in a dataset. Outliers have a minimal effect on the median, as it is only influenced if they fall directly within the central position or near it.\n",
    "\n",
    "3. Mode: The mode is generally not affected by outliers, as it represents the most frequent value(s) in the dataset. Outliers do not alter the mode unless they become the most frequently occurring value(s).\n",
    "\n",
    "For example: Considering a dataset representing the salaries of employees in a company: {30,000, 35,000, 40,000, 45,000, 100,000}. In this dataset, the outlier value of 100,000 significantly deviates from the other salary values. When calculating the mean, the presence of the outlier substantially increases the average salary. However, the median remains unaffected, as it represents the middle value (40,000) and is not influenced by the outlier. Similarly, the mode remains the same as the value 100,000 is not repeated and does not become the most frequently occurring value.\n",
    "\n",
    "## Measures of Dispersion\n",
    "\n",
    "1. Range: Outliers can significantly impact the range by increasing or decreasing the spread of the data. If an outlier is present, the range may expand to encompass the extreme value(s).\n",
    "\n",
    "2. Variance and Standard Deviation: Outliers can have a substantial effect on the variance and standard deviation since they involve squared differences from the mean. Outliers tend to increase the variability, resulting in larger variances and standard deviations.\n",
    "\n",
    "For example: While examining again the previous salary dataset, the outlier value of 100,000 increases the range, expanding it to 70,000 (100,000 - 30,000). Additionally, the outlier affects the variance and standard deviation, as the squared differences between the outlier and other values contribute significantly to the variability of the dataset."
   ]
  }
 ],
 "metadata": {
  "kernelspec": {
   "display_name": "Python 3 (ipykernel)",
   "language": "python",
   "name": "python3"
  },
  "language_info": {
   "codemirror_mode": {
    "name": "ipython",
    "version": 3
   },
   "file_extension": ".py",
   "mimetype": "text/x-python",
   "name": "python",
   "nbconvert_exporter": "python",
   "pygments_lexer": "ipython3",
   "version": "3.10.8"
  }
 },
 "nbformat": 4,
 "nbformat_minor": 5
}
