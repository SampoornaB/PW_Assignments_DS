{
 "cells": [
  {
   "cell_type": "code",
   "execution_count": 1,
   "id": "d38a7c29-abe8-464f-8cea-d04a7917060b",
   "metadata": {},
   "outputs": [
    {
     "data": {
      "text/plain": [
       "str"
      ]
     },
     "execution_count": 1,
     "metadata": {},
     "output_type": "execute_result"
    }
   ],
   "source": [
    "#Q1 i. 1 variable containing string data type\n",
    "s=\"classroom\"\n",
    "type(s)"
   ]
  },
  {
   "cell_type": "code",
   "execution_count": 2,
   "id": "0c9b76f2-bd5d-4fe9-8af3-11c10598d901",
   "metadata": {},
   "outputs": [
    {
     "data": {
      "text/plain": [
       "list"
      ]
     },
     "execution_count": 2,
     "metadata": {},
     "output_type": "execute_result"
    }
   ],
   "source": [
    "#Q1 ii. 1 variable containing list data type\n",
    "l=[58, 77, \"chair\", False, 8+5j]\n",
    "type(l)"
   ]
  },
  {
   "cell_type": "code",
   "execution_count": 3,
   "id": "608e2836-ab58-495e-b3ab-4d60ec87bed8",
   "metadata": {},
   "outputs": [
    {
     "data": {
      "text/plain": [
       "float"
      ]
     },
     "execution_count": 3,
     "metadata": {},
     "output_type": "execute_result"
    }
   ],
   "source": [
    "#Q1 iii. 1 variable containg float data type\n",
    "f=98.88\n",
    "type(f)"
   ]
  },
  {
   "cell_type": "code",
   "execution_count": 4,
   "id": "c449e456-6f05-4c06-bf0e-c1d7d3c90359",
   "metadata": {},
   "outputs": [
    {
     "data": {
      "text/plain": [
       "tuple"
      ]
     },
     "execution_count": 4,
     "metadata": {},
     "output_type": "execute_result"
    }
   ],
   "source": [
    "#Q1 iv. 1 variable containg tuple data type\n",
    "t=(20, \"chair\", 9.9)\n",
    "type(t)"
   ]
  },
  {
   "cell_type": "code",
   "execution_count": 5,
   "id": "d8eba6b5-c4fc-4435-ac7f-3ec978d01154",
   "metadata": {},
   "outputs": [
    {
     "data": {
      "text/plain": [
       "str"
      ]
     },
     "execution_count": 5,
     "metadata": {},
     "output_type": "execute_result"
    }
   ],
   "source": [
    "#Q2 i. Identify data type of a variable containing given data type\n",
    "var1=''\n",
    "type(var1)"
   ]
  },
  {
   "cell_type": "code",
   "execution_count": 6,
   "id": "0ffcd4da-2e57-4320-868e-fd74b2dbd2e0",
   "metadata": {},
   "outputs": [
    {
     "data": {
      "text/plain": [
       "str"
      ]
     },
     "execution_count": 6,
     "metadata": {},
     "output_type": "execute_result"
    }
   ],
   "source": [
    "#Q2 ii. Identify data type of a variable containing given data type\n",
    "var2='[DS, ML, Python]'\n",
    "type(var2)"
   ]
  },
  {
   "cell_type": "code",
   "execution_count": 7,
   "id": "83d1c24d-8a20-4341-b787-36b438c8a887",
   "metadata": {},
   "outputs": [
    {
     "data": {
      "text/plain": [
       "list"
      ]
     },
     "execution_count": 7,
     "metadata": {},
     "output_type": "execute_result"
    }
   ],
   "source": [
    "#Q2 iii. Identify data type of a variable containing given data type\n",
    "var3=['DS', 'ML', 'Python']\n",
    "type(var3)"
   ]
  },
  {
   "cell_type": "code",
   "execution_count": 8,
   "id": "a6ae1dfd-8c2c-40e0-aa35-e71e71bc671e",
   "metadata": {},
   "outputs": [
    {
     "data": {
      "text/plain": [
       "int"
      ]
     },
     "execution_count": 8,
     "metadata": {},
     "output_type": "execute_result"
    }
   ],
   "source": [
    "#Q2 iv. Identify data type of a variable containing given data type\n",
    "var4=1\n",
    "type(var4)"
   ]
  },
  {
   "cell_type": "code",
   "execution_count": 9,
   "id": "1bfb2f93-8bd6-42a1-b5c2-1e6a0e791031",
   "metadata": {
    "tags": []
   },
   "outputs": [
    {
     "name": "stdout",
     "output_type": "stream",
     "text": [
      "25.0\n"
     ]
    }
   ],
   "source": [
    "#Q3 i. Explain the use of '/' operator with example.\n",
    "\"\"\" This is known as the divisional operator (divisor) which divides the number on the left by the number on the right and returns the quotient as a floating point value. Hence, it is an arithmetic operator. \"\"\"\n",
    "#Example\n",
    "c=50/2\n",
    "print(c)"
   ]
  },
  {
   "cell_type": "code",
   "execution_count": 10,
   "id": "bc0fbe64-34cb-4216-b50d-39ba3533b6cd",
   "metadata": {},
   "outputs": [
    {
     "name": "stdout",
     "output_type": "stream",
     "text": [
      "1\n"
     ]
    }
   ],
   "source": [
    "#Q3 ii. Explain the use of '%' operator with example.\n",
    "\"\"\" This is known as the modulus operator which divides the number on the left by the number on the right and returns the remainder as an integer value. Hence, it is an arithmetic operator. \"\"\"\n",
    "#Example\n",
    "c=25%4\n",
    "print(c)"
   ]
  },
  {
   "cell_type": "code",
   "execution_count": 11,
   "id": "3b771a84-087c-403c-b122-149e50be99ed",
   "metadata": {},
   "outputs": [
    {
     "name": "stdout",
     "output_type": "stream",
     "text": [
      "2\n"
     ]
    }
   ],
   "source": [
    "#Q3 iii. Explain the use of '//' operator with example.\n",
    "\"\"\" This is known as the floor division operator which divides the number on the left by the number on the right and returns the quotient rounded off to its nearest smallest whole number. Hence, it is an arithmetic operator. \"\"\"\n",
    "#Example\n",
    "c=8//3\n",
    "print(c)"
   ]
  },
  {
   "cell_type": "code",
   "execution_count": 12,
   "id": "0311d356-6255-4f33-a745-d096fdb87cc3",
   "metadata": {},
   "outputs": [
    {
     "name": "stdout",
     "output_type": "stream",
     "text": [
      "64\n"
     ]
    }
   ],
   "source": [
    "#Q3 iv. Explain the use of '**' operator with example.\n",
    "\"\"\" This is the exponential power operator where a number on the left is multiplied by itself a certain number of times, i.e., the number on the right. Hence, it is an arithmetic operator. \"\"\"\n",
    "#Example\n",
    "c=4**3\n",
    "print(c)"
   ]
  },
  {
   "cell_type": "code",
   "execution_count": 13,
   "id": "6ac78317-42a1-45ba-b4cb-6827d35371b0",
   "metadata": {},
   "outputs": [
    {
     "name": "stdout",
     "output_type": "stream",
     "text": [
      "55\n",
      "<class 'int'>\n",
      "78\n",
      "<class 'int'>\n",
      "classroom\n",
      "<class 'str'>\n",
      "28.75\n",
      "<class 'float'>\n",
      "0.001\n",
      "<class 'str'>\n",
      "False\n",
      "<class 'bool'>\n",
      "(9+2j)\n",
      "<class 'complex'>\n",
      "laptop\n",
      "<class 'str'>\n",
      "5.9\n",
      "<class 'float'>\n",
      "True\n",
      "<class 'bool'>\n"
     ]
    }
   ],
   "source": [
    "#Q4. Creating a list of length 10 and printing elements and their type using for loop.\n",
    "l=[55, 78, \"classroom\", 28.75, \"0.001\", False, 9+2j, \"laptop\", 5.9, True]\n",
    "for i in l:\n",
    "    print(i)\n",
    "    c=type(i)\n",
    "    print(c)"
   ]
  },
  {
   "cell_type": "code",
   "execution_count": 14,
   "id": "ce847bff-9226-4f2e-a244-aae313d01512",
   "metadata": {},
   "outputs": [
    {
     "name": "stdin",
     "output_type": "stream",
     "text": [
      "Enter number A 24\n",
      "Enter number B 3\n"
     ]
    },
    {
     "name": "stdout",
     "output_type": "stream",
     "text": [
      "24 is divisible by 3, 1 number of times\n"
     ]
    }
   ],
   "source": [
    "#Q5. Verifying if number A is purely divisible by number B and if so, how many times, using while loop\n",
    "A=input('Enter number A')\n",
    "B=input('Enter number B')\n",
    "c=int(A)\n",
    "d=int(B)\n",
    "count=0\n",
    "while c%d==0:\n",
    "    c=c//d\n",
    "    count+=1\n",
    "if(count>0):\n",
    "    print(f'{A} is divisible by {B}, {count} number of times')\n",
    "else:\n",
    "    print(f'{A} is not divisible by {B}')"
   ]
  },
  {
   "cell_type": "code",
   "execution_count": 15,
   "id": "5735ef3a-768a-4a4b-ad29-c47a9342f5d2",
   "metadata": {},
   "outputs": [
    {
     "name": "stdout",
     "output_type": "stream",
     "text": [
      "1 is not divisible by 3\n",
      "2 is not divisible by 3\n",
      "3 is divisible by 3\n",
      "4 is not divisible by 3\n",
      "5 is not divisible by 3\n",
      "6 is divisible by 3\n",
      "7 is not divisible by 3\n",
      "8 is not divisible by 3\n",
      "9 is divisible by 3\n",
      "10 is not divisible by 3\n",
      "11 is not divisible by 3\n",
      "12 is divisible by 3\n",
      "13 is not divisible by 3\n",
      "14 is not divisible by 3\n",
      "15 is divisible by 3\n",
      "16 is not divisible by 3\n",
      "17 is not divisible by 3\n",
      "18 is divisible by 3\n",
      "19 is not divisible by 3\n",
      "20 is not divisible by 3\n",
      "21 is divisible by 3\n",
      "22 is not divisible by 3\n",
      "23 is not divisible by 3\n",
      "24 is divisible by 3\n",
      "25 is not divisible by 3\n"
     ]
    }
   ],
   "source": [
    "#Q6. Creating a list having 25 int type data and using for loop and if else condition to print wether it is divisible by 3 or not.\n",
    "l=[1, 2, 3, 4, 5, 6, 7, 8, 9, 10, 11, 12, 13, 14, 15, 16, 17, 18, 19, 20, 21, 22, 23, 24, 25]\n",
    "for i in l:\n",
    "    if(i%3==0):\n",
    "        print(f'{i} is divisible by 3')\n",
    "    else:\n",
    "        print(f'{i} is not divisible by 3')\n"
   ]
  },
  {
   "cell_type": "code",
   "execution_count": 16,
   "id": "8f406e11-959e-4580-b38d-86bcc70a7015",
   "metadata": {},
   "outputs": [
    {
     "name": "stdout",
     "output_type": "stream",
     "text": [
      "[21, 55.4, 'chair', True, 99, 'laptop']\n"
     ]
    }
   ],
   "source": [
    "#Q7. Mutability in python with example.\n",
    "\"\"\" Mutability:- It is the property of an object that can change/ modify or regarded as changeable in nature. In python, objects can change their values and are utilised to store data and the internal state and its position index can be changed. \"\"\"\n",
    "l=[21, 55.4, \"chair\", True, 9+3j, \"laptop\"]\n",
    "l[4]=99\n",
    "print(l)"
   ]
  },
  {
   "cell_type": "code",
   "execution_count": 17,
   "id": "90db05be-fa13-401b-ae70-8c88db11c27f",
   "metadata": {},
   "outputs": [
    {
     "ename": "TypeError",
     "evalue": "'tuple' object does not support item assignment",
     "output_type": "error",
     "traceback": [
      "\u001b[0;31m---------------------------------------------------------------------------\u001b[0m",
      "\u001b[0;31mTypeError\u001b[0m                                 Traceback (most recent call last)",
      "Cell \u001b[0;32mIn[17], line 4\u001b[0m\n\u001b[1;32m      2\u001b[0m \u001b[38;5;124;03m\"\"\" Immutability:- They are objects that do not change their values and attributes over time. These objects are permanent once they are created and initialised and form critical part of data structures. \"\"\"\u001b[39;00m\n\u001b[1;32m      3\u001b[0m t\u001b[38;5;241m=\u001b[39m(\u001b[38;5;241m0\u001b[39m, \u001b[38;5;241m1.1\u001b[39m, \u001b[38;5;241m2\u001b[39m, \u001b[38;5;124m\"\u001b[39m\u001b[38;5;124mchair\u001b[39m\u001b[38;5;124m\"\u001b[39m, \u001b[38;5;28;01mTrue\u001b[39;00m)\n\u001b[0;32m----> 4\u001b[0m \u001b[43mt\u001b[49m\u001b[43m[\u001b[49m\u001b[38;5;241;43m3\u001b[39;49m\u001b[43m]\u001b[49m\u001b[38;5;241m=\u001b[39m\u001b[38;5;124m\"\u001b[39m\u001b[38;5;124mdesk\u001b[39m\u001b[38;5;124m\"\u001b[39m\n\u001b[1;32m      5\u001b[0m \u001b[38;5;28mprint\u001b[39m(t)\n",
      "\u001b[0;31mTypeError\u001b[0m: 'tuple' object does not support item assignment"
     ]
    }
   ],
   "source": [
    "#Q7. Immutability in python with example.\n",
    "\"\"\" Immutability:- They are objects that do not change their values and attributes over time. These objects are permanent once they are created and initialised and form critical part of data structures. \"\"\"\n",
    "t=(0, 1.1, 2, \"chair\", True)\n",
    "t[3]=\"desk\"\n",
    "print(t)"
   ]
  }
 ],
 "metadata": {
  "kernelspec": {
   "display_name": "Python 3 (ipykernel)",
   "language": "python",
   "name": "python3"
  },
  "language_info": {
   "codemirror_mode": {
    "name": "ipython",
    "version": 3
   },
   "file_extension": ".py",
   "mimetype": "text/x-python",
   "name": "python",
   "nbconvert_exporter": "python",
   "pygments_lexer": "ipython3",
   "version": "3.10.8"
  }
 },
 "nbformat": 4,
 "nbformat_minor": 5
}
