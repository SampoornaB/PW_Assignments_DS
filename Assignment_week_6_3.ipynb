{
 "cells": [
  {
   "cell_type": "code",
   "execution_count": 1,
   "id": "c193bdcc-4bb0-45b5-a34e-fc8c8fec5463",
   "metadata": {},
   "outputs": [],
   "source": [
    "#Q1. Defining APIs along with an example in real life"
   ]
  },
  {
   "cell_type": "markdown",
   "id": "e974bdd7-3278-4617-8342-9af3fe9aa467",
   "metadata": {},
   "source": [
    "An application programming interface (API) is the medium by which different software interact. They foster connections between technologies to enhance user experience. \n",
    "\n",
    "An API is similar to waiters in a restaurant. A waiter takes orders from customers and brings those orders to the kitchen. After preparation, the waiter then brings the customers their food. In this way, the waiter serves as a middleman of sorts, facilitating communication between the table they're waiting on and the kitchen which prepares food. Similarly, an API works as a facilitator connecting software platforms that would otherwise not be able to interact.\n",
    "\n",
    "#### For example :- \n",
    "\n",
    "* The Google Maps API gives users the privilege of nearly limitless geographic aptitude at their fingertips. Search nearby restaurants, niche shops, and whatever else is in relative distance to our location. Each time we glimpsed business hours, reviews, contact information on our phones we were using the Google Maps API.\n",
    "\n",
    "* APIs are commonly used in online payment processing systems such as PayPal or Stripe. Whenever we make a payment on a website using PayPal, the website uses an API to communicate with the PayPal system, passing information such as the payment amount and the customer’s billing information.\n",
    "\n",
    "* APIs are also commonly used to integrate social media platforms such as Facebook or Twitter into other applications or websites. A website may use a Facebook API to allow users to log in using their Facebook account, or to display the user’s Facebook feed."
   ]
  },
  {
   "cell_type": "code",
   "execution_count": 2,
   "id": "f47e7816-cf7c-454e-bb85-ad39f35e0700",
   "metadata": {},
   "outputs": [],
   "source": [
    "#Q2. Advantages and disadvantages of using APIs"
   ]
  },
  {
   "cell_type": "markdown",
   "id": "2026b13b-cd1f-4981-9a77-7cfce1b93037",
   "metadata": {},
   "source": [
    "### Advantages of using APIs :-\n",
    "\n",
    "<b>Increased Interoperability:</b> API solutions enable different software systems to communicate with each other, regardless of their programming language or platform. This enhances the interoperability between systems, allowing for the exchange of data and functionality.\n",
    "\n",
    "<b>Improved Efficiency:</b> API driven infrastructures enable developers to reuse code and functionality from existing software systems, saving time and reducing the amount of code that needs to be written from scratch.\n",
    "\n",
    "<b>Better User Experience:</b> APIs can enable third-party developers to create applications that integrate with existing software systems, providing a better user experience and increased functionality.\n",
    "\n",
    "<b>Increased Flexibility:</b> APIs provide developers with greater flexibility, enabling them to choose the best programming languages and frameworks for their needs.\n",
    "\n",
    "### Disadvantages of using APIs :-\n",
    "\n",
    "<b>Security Concerns:</b> API infrastructures can be vulnerable to security breaches making it crucial to implement security measures to protect against these threats.\n",
    "\n",
    "<b>Complexity:</b> APIs can be complex, requiring a significant amount of development effort to implement and maintain.\n",
    "\n",
    "<b>Compatibility Issues:</b> APIs can have compatibility issues between different versions of the same software system or between different systems, which can lead to errors and system failures.\n",
    "\n",
    "<b>Dependency on Third-Party Developers:</b> APIs rely on third-party developers to create applications that integrate with the software system. This can create dependencies that are outside of the control of the company that owns the software system.\n",
    "\n",
    "<b>Governance and Management:</b> APIs require proper governance and management to ensure they are being used correctly and consistently across different applications and systems."
   ]
  },
  {
   "cell_type": "code",
   "execution_count": 3,
   "id": "07070163-20ba-4c31-b721-788bebe8caa3",
   "metadata": {},
   "outputs": [],
   "source": [
    "#Q3. Defining Web APIs and the differences between APIs and Web APIs"
   ]
  },
  {
   "cell_type": "markdown",
   "id": "0b998f36-6eec-4b03-917b-f0ece28cfcca",
   "metadata": {},
   "source": [
    "Web API is an API whihch can be accessed over the web using the HTTP protocol. It is an Open-Source framework for a web application or web server that communicates between clients and websites for data access. As Web API implements protocol specification, it incorporates concepts like—Caching, URIs, Versioning, Headers, and various content formats. Developers can build Web APIs using varied technologies such as .NET, Java, and many more. A Web API enables developers to build services that can reach a wide range of clients, including Browsers, Mobiles, and Tablets.\n",
    "\n",
    "#### Differences between API and Web API :-\n",
    "\n",
    "|<h2 style ='text-align: center'>API|<h2 style ='text-align: center'>Web API|\n",
    "|---|---|\n",
    "|<p style ='text-align: center'>API stands for Application Programming Interface.|<p style ='text-align: center'>Web API, being a subset of API, specifically refers to APIs accessible over the web.|\n",
    "|<p style ='text-align: center'>It is an interface with a set of Functions, Tools, and Protocols to integrate application software and services. It enables businesses to let their product and service interact with other products and services seamlessly, eliminating the need for additional conection infrastructure.|<p style ='text-align: center'>It is an Open-Source framework for a web application or web server that communicates between clients and websites for data access.|\n",
    "|<p style ='text-align: center'>APIs can have a broad scope and can cover various aspects such as operating systems, databases, hardware, etc.|<p style ='text-align: center'>Web APIs typically focus on providing access to web-based functionalities and services like retrieving data, performing operations on web resources, etc.|\n",
    "|<p style ='text-align: center'>APIs can be accessed through various mediums such as libraries, frameworks, operating systems, etc.|<p style ='text-align: center'>Web APIs are primarily accessed through web protocols like HTTP(S).|\n",
    "|<p style ='text-align: center'>APIs can use various protocols for communication, including but not limited to HTTP, TCP/IP, SOAP, REST, etc.|<p style ='text-align: center'>Web APIs primarily use HTTP(S) protocols for communication, and commonly follow RESTful principles.|\n",
    "|<p style ='text-align: center'>APIs can have various security measures, including access controls, encryption, rate limiting, etc., depending on the implementation and sensitivity of the data being accessed.|<p style ='text-align: center'>Web APIs typically implement security measures like HTTPS encryption, authentication mechanisms, access controls, and rate limiting to ensure secure and controlled access to web resources.|\n",
    "|<p style ='text-align: center'>Operating system APIs, database APIs, programming language APIs, etc.|<p style ='text-align: center'>Twitter API, Google Maps API, Facebook Graph API, etc. are examples of popular web APIs.|"
   ]
  },
  {
   "cell_type": "code",
   "execution_count": 4,
   "id": "1668e045-98ba-456f-b32e-7e92f8138160",
   "metadata": {},
   "outputs": [],
   "source": [
    "#Q4. Explaining REST and SOAP Architecture along with shortcomings of SOAP"
   ]
  },
  {
   "cell_type": "markdown",
   "id": "59a8c2a3-8662-40b9-9d21-c99a347bc8e0",
   "metadata": {},
   "source": [
    "### REST Architecture :-\n",
    "\n",
    "REST(Representational State Transfer) is a software architectural style that defines the set of rules to be used for creating web services. Web services which follow the REST architectural style are known as RESTful web services. It allows requesting systems to access and manipulate web resources by using a uniform and predefined set of rules. Interaction in REST based systems happen through HTTP.\n",
    "\n",
    "A Restful system consists of a:\n",
    "\n",
    "* Client who requests for the resources.\n",
    "* Server who has the resources.\n",
    "\n",
    "### SOAP Architecture :-\n",
    "\n",
    "SOAP is a protocol for the exchange of information in a distributed environment. SOAP messages are encoded as XML documents and can be exchanged using various underlying protocols. Formerly an acronym for Simple Object Access Protocol, SOAP is developed by the World Wide Web Consortium (W3C). The SOAP specifications describe a distributed processing model in which a SOAP message is passed between SOAP nodes. The message originates at a SOAP sender and is sent to a SOAP receiver. Between the sender and the receiver, the message might be processed by one or more SOAP intermediaries. A SOAP message is a one-way transmission between SOAP nodes, from a SOAP sender to a SOAP receiver, but messages can be combined to construct more complex interactions, such as request and response, and peer-to-peer conversations.\n",
    "\n",
    "#### Shortcomings of SOAP Architecture :-\n",
    "\n",
    "* <b><u>API Calls are not Cached</u></b>: An API call is a process of sending a request when an API has been set up with the necessary endpoints. The information is transferred, processed, and feedback is supplied as a result of the process. It is not feasible to cache SOAP API requests.\n",
    "* <b><u>Extremely Complicated</u></b>: SOAP is substantially more sophisticated than REST. It is also less adaptable. For developers who aren't very experienced, this could be a problem. Performance may be slowed as a result of the substantial processing required.\n",
    "* <b><u>No Choice of Data Formats</u></b>: SOAP's support for data formats is likewise severely constrained. HTML, JSON, YAML, XML, and more formats are supported by REST. SOAP, on the other hand, only supports XML.\n",
    "* <b><u>Requires More Bandwidth</u></b>: SOAP is often slower than REST, and it also consumes more bandwidth due to its complexity. It's also a limiting issue in the technology's efficacy for some applications.\n",
    "* <b><u>WSDL Dependence</u></b>: It depends on WSDL and does not have any standardized mechanism for dynamic discovery of the services."
   ]
  },
  {
   "cell_type": "code",
   "execution_count": 5,
   "id": "681d0f84-434d-4abe-afea-56be3d0a04e3",
   "metadata": {},
   "outputs": [],
   "source": [
    "#Q5. Differences between REST and SOAP"
   ]
  },
  {
   "cell_type": "markdown",
   "id": "4968bdf2-0a1f-4e18-8cf0-367ee96e7da9",
   "metadata": {},
   "source": [
    "|<h2 style ='text-align: center'>SOAP|<h2 style ='text-align: center'>REST|\n",
    "|----|----|\n",
    "|<p style ='text-align: center'>SOAP stands for Simple Object Access Protocol|<p style ='text-align: center'>REST stands for Representational State Transfer|\n",
    "|<p style ='text-align: center'>SOAP is a protocol which was designed with specification. It includes a WSDL file which has the required information on what the web service does in addition to the location of the web service.|<p style ='text-align: center'>REST is an Architectural style in which a web service can only be treated as a RESTful service if it follows the constraints of being: Client Server; Stateless; Cacheable; Layered System and Uniform Interface|\n",
    "|<p style ='text-align: center'>SOAP uses service interfaces to expose its functionality to client applications. In SOAP, the WSDL file provides the client with the necessary information which can be used to understand what services the web service can offer.|<p style ='text-align: center'>REST uses Uniform Service Locators to access the components on the hardware device.|\n",
    "|<p style ='text-align: center'>SOAP requires more bandwidth for its usage. Since SOAP Messages contain a lot of information inside of it, the amount of data transfer using SOAP is generally a lot.|<p style ='text-align: center'>REST does not need much bandwidth when requests are sent to the server. REST messages mostly consist of JSON messages.|\n",
    "|<p style ='text-align: center'>SOAP can only work with XML format. As seen from SOAP messages, all data passed is in XML format.|<p style ='text-align: center'>REST permits different data format such as Plain text, HTML, XML, JSON, etc. The most preferred format for transferring data is JSON.|\n",
    "|<p style ='text-align: center'>It has WS-security (Enterprise-level security) with SSL support. It also has built-in ACID(Atomicity, Consistency, Integrity, Durability) compliance which is a good feature for transactions and that’s why SOAP is used while exchanging sensitive information.|<p style ='text-align: center'>It supports HTTPS and SSL (Secure Sockets Layer)|\n",
    "|<p style ='text-align: center'>It works on HTTP, SMP, UDP, etc.|<p style ='text-align: center'>It only works on HTTPS.|\n",
    "|<p style ='text-align: center'>SOAP cannot use REST because SOAP is a protocol and REST has an architectural style.|<p style ='text-align: center'>REST can use SOAP as a protocol for web services.|"
   ]
  }
 ],
 "metadata": {
  "kernelspec": {
   "display_name": "Python 3 (ipykernel)",
   "language": "python",
   "name": "python3"
  },
  "language_info": {
   "codemirror_mode": {
    "name": "ipython",
    "version": 3
   },
   "file_extension": ".py",
   "mimetype": "text/x-python",
   "name": "python",
   "nbconvert_exporter": "python",
   "pygments_lexer": "ipython3",
   "version": "3.10.8"
  }
 },
 "nbformat": 4,
 "nbformat_minor": 5
}
