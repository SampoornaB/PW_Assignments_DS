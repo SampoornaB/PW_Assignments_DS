{
 "cells": [
  {
   "cell_type": "code",
   "execution_count": 1,
   "id": "0011f660-5a65-474a-a900-3d1ab5d90910",
   "metadata": {},
   "outputs": [],
   "source": [
    "#Q1. Defining databases and the differences between SQL and NoSQL databases"
   ]
  },
  {
   "cell_type": "markdown",
   "id": "b58e47af-4c08-458b-a19e-011a6773043b",
   "metadata": {},
   "source": [
    "Databases are organised collections of structured information or data stored electronically in a computer system. They are controlled by DBMS(Database Management Systems). They are usually modeled in rows and columns in a series of \n",
    "tables.\n",
    "\n",
    "Data in databases can be easily accessed, managed, modified, updated, controlled, and organised. Usually databases use SQL(Structured Query Languages) for writing and quesrying datta.\n",
    "\n",
    "<h1 style = 'text-align: center;'> Differences between SQL and NoSQL Databases </h1>\n",
    "\n",
    "| SQL | NoSQL |\n",
    "| --- | --- | \n",
    "|<p style = 'text-align: center;'>They use relational database management systems(RDMS).</p>|<p style = 'text-align: center;'>They use non-relational or distributed database systems.</p>|\n",
    "|<p style = 'text-align: center;'>SQL databases require us to use predefined schemas to determine the structure of our data before we work on it. The data must follow the same structure.</p>|<p style = 'text-align: center;'>NoSQL databases have a dynamic schema for unstrcutured data. Their data can be stored in many ways, which means it can be document-oriented, column-oriented, graph-based, or organised as a key-value store. The documents thus can be created without having a predefined structure.</p>|\n",
    "|<p style ='text-align: center;'>These are vertically scalable.</p>|<p style ='text-align: center;'>These are horizontally scalable.</p>|\n",
    "|<p style ='text-align: center;'>These are not well suited for hierarchical data storage.</p>|<p style ='text-align: center;'>They are best suited for hierarchical data storage.</p>|\n",
    "|<p style ='text-align: center;'>They are best suited for complex queries.</p>|<p style ='text-align: center;'>They are not so good for executing complex queries.</p>|\n",
    "|<p style ='text-align: center;'>They follow ACID properties (Atomicity, Consistency, Isolation, and Durability).</p>|<p style ='text-align: center;'>They follow CAP theorem (Consistency, Availability, and Partition tolerance).</p>|"
   ]
  },
  {
   "cell_type": "code",
   "execution_count": 2,
   "id": "b020ce22-c9a5-4eb3-a11a-e437bd8fe7ca",
   "metadata": {},
   "outputs": [],
   "source": [
    "#Q2. Defining DDL along with explaining the use of CREATE, DROP, ALTER, and TRUNCATE along with examples"
   ]
  },
  {
   "cell_type": "markdown",
   "id": "734ac356-aa39-428a-9001-7302885d4600",
   "metadata": {},
   "source": [
    "DDL(Data Description Language or Data definition Language) is a set of SQL commands used to create, modify, and delete database objects rather than data. These database objects include views, schemas, tables, indexes, etc.\n",
    "\n",
    "### Use of CREATE :-\n",
    "\n",
    "CREATE statement is used to create new objects in our data warehouse. The most common objects created with CREATE statements are tables, schemas, views and functions.\n",
    "\n",
    "Example :-\n",
    "\n",
    "MySQL query for creating a table to store details of customers in a database called Customers.\n",
    "\n",
    "\"CREATE TABLE IF NOT EXISTS Customers.Customer_Details(Customer_ID INT(15) PRIMARY KEY, Customer_name VARCHAR(50), Country VARCHAR(50), Age INT(2), Phone_number INT(10))\"\n",
    "\n",
    "### Use of DROP :-\n",
    "\n",
    "DROP statement in SQL is used to remove a component from a relational database management system(RDMS). DROP destroys objects like an existing databases, table, imdex, or view.\n",
    "\n",
    "Example :-\n",
    "\n",
    "MySQL query for deleting a table containing details of customers.\n",
    "\n",
    "\"DROP TABLE IF EXISTS Customers_Details\"\n",
    "\n",
    "### Use of ALTER :-\n",
    "\n",
    "ALTER in SQL can change any object in our database that already exists. By using ALTER we can add new, remove, and rename columns to views and tables. We can also rename a view or table, modify the structure of a view or table, etc.\n",
    "\n",
    "Example :-\n",
    "\n",
    "MySQL query for adding a new column for email in the table containing details of customers in Customers database.\n",
    "\n",
    "\"ALTER TABLE Customers.Customer_Details ADD email VARCHAR(255)\"\n",
    "\n",
    "### Use of TRUNCATE :-\n",
    "\n",
    "TRUNCATE command in SQL is used to remove all rows from a table while maintaining the underlying structure. TRUNCATE is applicable only for table objects in a database. TRUNCATE does not remove the actual table from the database, just the data stored in them.\n",
    "\n",
    "Example :-\n",
    "\n",
    "MySQL query for truncating a table containing details of customers in the database Customers.\n",
    "\n",
    "\"TRUNCATE TABLE Customers.Customer_Details\""
   ]
  },
  {
   "cell_type": "code",
   "execution_count": 3,
   "id": "326b4b8e-c9bd-4417-a910-e973c249c98f",
   "metadata": {},
   "outputs": [],
   "source": [
    "#Q3. Defining DML along with explaining the use of INSERT, UPDATE, and DELETE along with examples"
   ]
  },
  {
   "cell_type": "markdown",
   "id": "6bd64bfb-0678-4de7-ab20-a826523d6e73",
   "metadata": {},
   "source": [
    "DML(Data Manipulation Language) is a set of SQL commands which deal with accessing and manipulating data present in the database. They are used to query, edit, add and delete row-level data from database tables or views.\n",
    "\n",
    "### Use of INSERT :-\n",
    "\n",
    "INSERT command is used to insert rows or values into all the rows or in specific rows into already available tables.\n",
    "\n",
    "Example :-\n",
    "\n",
    "MySQL query for adding a row of values into the table containing details of customers in Customers database.\n",
    "\n",
    "\"INSERT INTO Customers.Customer_Details VALUES (81324, 'Sampoorna', 'India', 19, 7002920121, 'email_123@gmail.com')\"\n",
    "\n",
    "### Use of UPDATE :-\n",
    "\n",
    "UPDATE command is used to change the actual data in existing rows in a table.\n",
    "\n",
    "Example :-\n",
    "\n",
    "MySQL query for changing 'email' value where 'Customer_name' value is 'Sampoorna' of the table containing details of customers in Customers database.\n",
    "\n",
    "\"UPDATE Customers.Customer_Details SET email = 'sampoorna@gmail.com' WHERE Customer_name = 'Sampoorna'\"\n",
    "\n",
    "### Use of DELETE :-\n",
    "\n",
    "DELETE command can be used to delete existing records in a table. We can delete a single record or multiple records depending on the condition we specify in the WHERE clause.\n",
    "\n",
    "Example :-\n",
    "\n",
    "MySQL query for deleting the rows where 'Customer_name' value is 'Sampoorna' from the table containing details of customers in Customers database.\n",
    "\n",
    "\"DELETE FROM Customers.Customer_Details WHERE Customer_name = 'Sampoorna'\""
   ]
  },
  {
   "cell_type": "code",
   "execution_count": 4,
   "id": "36073afa-0ca8-4ab3-8905-bda2a12f8ac6",
   "metadata": {},
   "outputs": [],
   "source": [
    "#Q4. Defining DQL along with explaining the use of SELECT along with example"
   ]
  },
  {
   "cell_type": "markdown",
   "id": "ef741f6e-5ec3-4b41-a3ac-291c7335574a",
   "metadata": {},
   "source": [
    "DQL(Data Query Language) are a component of SQL statement that allows getting data from the database and imposing order upon it. They are used for performing queries on the data within schema objects. Their purpose is to get some schema relation based on the query passed to it.\n",
    "\n",
    "### Use of SELECT :-\n",
    "\n",
    "SELECT is used to retrieve or fetch data from a database. It allows us to access and manipulate data that exists in database objects. We use SELECT statements to create queries to build data models and perform robust analysis.\n",
    "\n",
    "Example :-\n",
    "\n",
    "MySQL statement for fetching the entire table or all the attributes of the table containing details of customers in Customers database.\n",
    "\n",
    "SELECT * FROM Customers.Customer_Details"
   ]
  },
  {
   "cell_type": "code",
   "execution_count": 5,
   "id": "a93f937c-74e3-466a-9273-0785150db095",
   "metadata": {},
   "outputs": [],
   "source": [
    "#Q5. Explaining Primary Key and Foreign Key"
   ]
  },
  {
   "cell_type": "markdown",
   "id": "73b31413-4fec-4bb9-bd61-f3c6ae2deb73",
   "metadata": {},
   "source": [
    "### Primary Key :-\n",
    "\n",
    "The primary key in SQL is a single, or a group of fields or columns that can uniquely identify a row in a table. It is a column that accepts unique values for each row. They do not accept duplicate values and each primary key uniquely identifies each field.\n",
    "\n",
    "### Foreign Key :-\n",
    "\n",
    "A foreign key is a column or columns in a database that (e.g. table_1.column_a) are linked to a column in a different table (table_2.column_b). The existence of a foreign key column establishes a foreign key constraint – a database rule that ensures that a value can be added or updated in column_a only if the same value already exists in column_b. \n",
    "\n",
    "Foreign keys help define the relationships between tables. They allow developers to maintain referential integrity across their database. Foreign keys also help end-users by preventing errors and improving the performance of any operation that’s pulling data from tables linked by indexed foreign keys."
   ]
  },
  {
   "cell_type": "code",
   "execution_count": 6,
   "id": "64eeb1d2-9249-4f9d-80df-29ea0ff028cd",
   "metadata": {},
   "outputs": [],
   "source": [
    "#Q6. Python code to connect MySQL to Python and explaining the cursor() and execute() method"
   ]
  },
  {
   "cell_type": "raw",
   "id": "a6110409-b66d-4d49-b32e-6b46abff7a35",
   "metadata": {},
   "source": [
    "# Python code to connect MySQL to Python :-\n",
    "\n",
    "pip install mysql-connector-python        # Installing sql connector module if not already installed in the local device\n",
    "\n",
    "import mysql.connector\n",
    "\n",
    "my_conn = mysql.connector.connect(\n",
    "    \n",
    "  host=\"localhost\",                       # Host IP\n",
    "  user=\"myusername\",                      # Username\n",
    "  password=\"password\"                     # Password\n",
    "    \n",
    ")\n",
    "\n",
    "print(my_conn)                            # Printing connection object"
   ]
  },
  {
   "cell_type": "markdown",
   "id": "35cd9382-5e3d-4f5f-8d18-d45b4d4c52e7",
   "metadata": {},
   "source": [
    "#### cursor() Method :-\n",
    "\n",
    "The 'cursor()' method is used to create a Cursor object of the connection object/class. A cursor is an object which helps to execute the SQL query and fetch the records from MySQL database.\n",
    "\n",
    "#### execute() Method :-\n",
    "\n",
    "The 'execute()' method accepts a MySQL query as a parameter and executes the given query."
   ]
  },
  {
   "cell_type": "code",
   "execution_count": 7,
   "id": "63f99292-0b09-445b-8247-867c7eae9634",
   "metadata": {},
   "outputs": [],
   "source": [
    "#Q7. Order of execution of SQL clauses in an SQL query"
   ]
  },
  {
   "cell_type": "markdown",
   "id": "5469f4e7-31dd-4b5f-9b18-399b2fdfc129",
   "metadata": {},
   "source": [
    "SQL queries adhere to a specific order when evaluating clauses. Order in which the clauses in queries are executed is as follows:-\n",
    "\n",
    "|Order|Clause|Function|\n",
    "|---|---|---|\n",
    "|1|FROM/JOIN|Executed first to determine the data of interest|\n",
    "|2|WHERE|Executed to filter out records that do not meet the constraints|\n",
    "|3|GROUP BY|Executed to group the data based on the values in one or more columns|\n",
    "|4|HAVING|Executed to remove the created grouped records that don’t meet the constraints|\n",
    "|5|SELECT|Executed to derive all desired columns and expressions|\n",
    "|6|ORDER BY|Executed to sort the derived values in ascending or descending order|\n",
    "|7|LIMIT/OFFSET|Executed to keep or skip a specified number of rows|"
   ]
  }
 ],
 "metadata": {
  "kernelspec": {
   "display_name": "Python 3 (ipykernel)",
   "language": "python",
   "name": "python3"
  },
  "language_info": {
   "codemirror_mode": {
    "name": "ipython",
    "version": 3
   },
   "file_extension": ".py",
   "mimetype": "text/x-python",
   "name": "python",
   "nbconvert_exporter": "python",
   "pygments_lexer": "ipython3",
   "version": "3.10.8"
  }
 },
 "nbformat": 4,
 "nbformat_minor": 5
}
