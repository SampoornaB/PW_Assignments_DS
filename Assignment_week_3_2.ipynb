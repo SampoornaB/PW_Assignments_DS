{
 "cells": [
  {
   "cell_type": "code",
   "execution_count": 1,
   "id": "d5f128f2-702c-4d5b-981a-48386c7f13c3",
   "metadata": {},
   "outputs": [
    {
     "name": "stdout",
     "output_type": "stream",
     "text": [
      "[('Virat Kohli', 24936), ('Jack Kallis', 25534), ('Ricky Ponting', 27483), ('Sachin Tendulkar', 34357)]\n"
     ]
    }
   ],
   "source": [
    "#Q1. Sorting the given list of tuples based on the integer values using a lambda function\n",
    "\n",
    "lst_1 = [('Sachin Tendulkar', 34357), ('Ricky Ponting', 27483), ('Jack Kallis', 25534), ('Virat Kohli', 24936)]\n",
    "\n",
    "lst_1.sort(key=lambda x: x[1])\n",
    "print(lst_1)"
   ]
  },
  {
   "cell_type": "code",
   "execution_count": 2,
   "id": "9372b85c-b8ef-4e37-8143-c5f9fedc6d45",
   "metadata": {},
   "outputs": [
    {
     "name": "stdout",
     "output_type": "stream",
     "text": [
      "[1, 4, 9, 16, 25, 36, 49, 64, 81, 100]\n"
     ]
    }
   ],
   "source": [
    "#Q2. Finding squares of all numbers in the given list using lambda and map functions\n",
    "\n",
    "lst_2 = [1, 2, 3, 4, 5, 6, 7, 8, 9, 10]\n",
    "\n",
    "sq_num_lst = list(map(lambda x: x**2, lst_2))\n",
    "print(sq_num_lst)"
   ]
  },
  {
   "cell_type": "code",
   "execution_count": 3,
   "id": "a1556d1d-507f-4475-9a39-d5c5bd6499de",
   "metadata": {},
   "outputs": [
    {
     "name": "stdout",
     "output_type": "stream",
     "text": [
      "('1', '2', '3', '4', '5', '6', '7', '8', '9', '10')\n"
     ]
    }
   ],
   "source": [
    "#Q3. Converting the given list of integers into a tuple of strings\n",
    "\n",
    "lst_3 = [1, 2, 3, 4, 5, 6, 7, 8, 9, 10]\n",
    "\n",
    "st_conv_lst = tuple(map(lambda x: str(x), lst_3))\n",
    "print(st_conv_lst)"
   ]
  },
  {
   "cell_type": "code",
   "execution_count": 4,
   "id": "90b7d792-0c43-41a1-8c91-ad4770aca7d0",
   "metadata": {},
   "outputs": [
    {
     "name": "stdout",
     "output_type": "stream",
     "text": [
      "15511210043330985984000000\n"
     ]
    }
   ],
   "source": [
    "#Q4. Using reduce function to compute the product of a list of numbers from 1 to 25\n",
    "\n",
    "from functools import reduce\n",
    "\n",
    "lst_4 = [1, 2, 3, 4, 5, 6, 7, 8, 9, 10, 11, 12, 13, 14, 15, 16, 17, 18, 19, 20, 21, 22, 23, 24, 25]\n",
    "\n",
    "fac = reduce(lambda x, y: x*y, lst_4)\n",
    "print(fac)"
   ]
  },
  {
   "cell_type": "code",
   "execution_count": 5,
   "id": "94d6ad71-d5d4-489d-b178-0564c48dd84c",
   "metadata": {},
   "outputs": [
    {
     "name": "stdout",
     "output_type": "stream",
     "text": [
      "[6, 60, 90, 120]\n"
     ]
    }
   ],
   "source": [
    "#Q5. Filtering the numbers from the list which are divisible by both 2 and 3 using filter function\n",
    "\n",
    "lst_5 = [2, 3, 6, 9, 27, 60, 90, 120, 55, 46]\n",
    "\n",
    "d_lst = list(filter(lambda x: x % 2 == 0 and x % 3 == 0, lst_5))\n",
    "print(d_lst)"
   ]
  },
  {
   "cell_type": "code",
   "execution_count": 6,
   "id": "adf69a8c-9024-42a5-be8e-0f2ef5ad2292",
   "metadata": {},
   "outputs": [
    {
     "name": "stdout",
     "output_type": "stream",
     "text": [
      "['php', 'aba', 'radar', 'level']\n"
     ]
    }
   ],
   "source": [
    "#Q6. Finding palindromes in the given list of strings using lambda and filter function\n",
    "\n",
    "lst_6 = ['python', 'php', 'aba', 'radar', 'level']\n",
    "\n",
    "pali_list = list(filter(lambda x: x == x[::-1], lst_6))\n",
    "print(pali_list)"
   ]
  }
 ],
 "metadata": {
  "kernelspec": {
   "display_name": "Python 3 (ipykernel)",
   "language": "python",
   "name": "python3"
  },
  "language_info": {
   "codemirror_mode": {
    "name": "ipython",
    "version": 3
   },
   "file_extension": ".py",
   "mimetype": "text/x-python",
   "name": "python",
   "nbconvert_exporter": "python",
   "pygments_lexer": "ipython3",
   "version": "3.10.8"
  }
 },
 "nbformat": 4,
 "nbformat_minor": 5
}
