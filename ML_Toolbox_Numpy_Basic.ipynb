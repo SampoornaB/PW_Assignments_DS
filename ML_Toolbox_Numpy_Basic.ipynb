{
 "cells": [
  {
   "cell_type": "code",
   "execution_count": 1,
   "id": "d424335c-2eb1-4c3a-ab77-c23980d2c82f",
   "metadata": {},
   "outputs": [
    {
     "name": "stdout",
     "output_type": "stream",
     "text": [
      "Data type of list_ : <class 'list'>\n",
      "Data type of array_list : <class 'numpy.ndarray'>\n"
     ]
    }
   ],
   "source": [
    "#Q1. Difference in the data type of variables list_ and array_list\n",
    "\n",
    "import numpy as np\n",
    "\n",
    "\n",
    "list_ = [ '1' , '2' , '3' , '4' , '5' ]\n",
    "array_list = np.array(object = list_)\n",
    "\n",
    "print(f'Data type of list_ : {type(list_)}')        # Printing the data type of 'list_'\n",
    "print(f'Data type of array_list : {type(array_list)}')        # Printing the data type of 'array_list'"
   ]
  },
  {
   "cell_type": "markdown",
   "id": "66419419-c85e-475f-a7f2-884287328d5a",
   "metadata": {},
   "source": [
    "There is a difference in the data types of 'list_' and 'array_list' where 'list_' has a data type of class 'list' while the data type of 'array_list' is of class 'numpy.ndarray'."
   ]
  },
  {
   "cell_type": "code",
   "execution_count": 2,
   "id": "0ba2f605-3d82-4fb6-b2a9-13894799d823",
   "metadata": {},
   "outputs": [
    {
     "name": "stdout",
     "output_type": "stream",
     "text": [
      "Data type of each and every element of list_ :- \n",
      "\n",
      "Data type of 1 is <class 'str'>.\n",
      "Data type of 2 is <class 'str'>.\n",
      "Data type of 3 is <class 'str'>.\n",
      "Data type of 4 is <class 'str'>.\n",
      "Data type of 5 is <class 'str'>.\n",
      "\n",
      "Data type of each and every element of array_list :- \n",
      "\n",
      "Data type of 1 is <class 'numpy.str_'>.\n",
      "Data type of 2 is <class 'numpy.str_'>.\n",
      "Data type of 3 is <class 'numpy.str_'>.\n",
      "Data type of 4 is <class 'numpy.str_'>.\n",
      "Data type of 5 is <class 'numpy.str_'>.\n"
     ]
    }
   ],
   "source": [
    "#Q2. Code to print each and every element of both the variables list_ and array_list\n",
    "\n",
    "# Printing data type of each and every element of 'list_'\n",
    "\n",
    "print('Data type of each and every element of list_ :- \\n')\n",
    "for element in list_:\n",
    "    print(f'Data type of {element} is {type(element)}.')\n",
    "\n",
    "# Printing data type of each and every element of 'array_list'\n",
    "\n",
    "print('\\nData type of each and every element of array_list :- \\n')\n",
    "for element in array_list:\n",
    "    print(f'Data type of {element} is {type(element)}.')"
   ]
  },
  {
   "cell_type": "code",
   "execution_count": 3,
   "id": "5d301765-5c8d-4394-8859-822156c3db2b",
   "metadata": {},
   "outputs": [
    {
     "name": "stdout",
     "output_type": "stream",
     "text": [
      "Data type of each and every element of list_ :- \n",
      "\n",
      "Data type of 1 is <class 'str'>.\n",
      "Data type of 2 is <class 'str'>.\n",
      "Data type of 3 is <class 'str'>.\n",
      "Data type of 4 is <class 'str'>.\n",
      "Data type of 5 is <class 'str'>.\n",
      "\n",
      "Data type of each and every element of array_list :- \n",
      "\n",
      "Data type of 1 is <class 'numpy.int64'>.\n",
      "Data type of 2 is <class 'numpy.int64'>.\n",
      "Data type of 3 is <class 'numpy.int64'>.\n",
      "Data type of 4 is <class 'numpy.int64'>.\n",
      "Data type of 5 is <class 'numpy.int64'>.\n"
     ]
    }
   ],
   "source": [
    "#Q3. Difference in the data type of variables list_ and array_list after change\n",
    "\n",
    "array_list = np.array(object = list_, dtype = int)\n",
    "\n",
    "# Printing data type of each and every element of 'list_'\n",
    "\n",
    "print('Data type of each and every element of list_ :- \\n')\n",
    "for element in list_:\n",
    "    print(f'Data type of {element} is {type(element)}.')\n",
    "\n",
    "# Printing data type of each and every element of 'array_list'\n",
    "\n",
    "print('\\nData type of each and every element of array_list :- \\n')\n",
    "for element in array_list:\n",
    "    print(f'Data type of {element} is {type(element)}.')"
   ]
  },
  {
   "cell_type": "markdown",
   "id": "67efcb77-567e-4619-8bc1-0ddea6b59578",
   "metadata": {},
   "source": [
    "There will be a difference in the data type of the elements present in both the variables, 'list_' and 'array_list' where each element of 'list_' has a data type of class 'str' while each element of 'array_list' has a data type of class 'numpy.int64'."
   ]
  },
  {
   "cell_type": "code",
   "execution_count": 4,
   "id": "f82852fb-2347-4872-8213-ab0d70408528",
   "metadata": {},
   "outputs": [
    {
     "name": "stdout",
     "output_type": "stream",
     "text": [
      "Shape of the variable, num_array is (2, 3).\n",
      "\n",
      "Size of the variable, num_array is 6.\n"
     ]
    }
   ],
   "source": [
    "#Q4. Code to find the shape and size of the variable, 'num_array'\n",
    "\n",
    "import numpy as np\n",
    "\n",
    "\n",
    "num_list = [ [ 1 , 2 , 3 ] , [ 4 , 5 , 6 ] ]\n",
    "num_array = np.array(object = num_list)\n",
    "\n",
    "# (i) Finding the shape of the variable, num_array\n",
    "\n",
    "print(f'Shape of the variable, num_array is {num_array.shape}.')\n",
    "\n",
    "# (ii) Finding the size of the variable, num_array\n",
    "\n",
    "print(f'\\nSize of the variable, num_array is {num_array.size}.')"
   ]
  },
  {
   "cell_type": "code",
   "execution_count": 5,
   "id": "bb95cee9-5cc5-46dc-9ef7-911caba7ed28",
   "metadata": {},
   "outputs": [
    {
     "name": "stdout",
     "output_type": "stream",
     "text": [
      "The numpy array of 3*3 matrix containing zeros only is as follows :-\n",
      "\n",
      "[[0. 0. 0.]\n",
      " [0. 0. 0.]\n",
      " [0. 0. 0.]]\n"
     ]
    }
   ],
   "source": [
    "#Q5. Code to create numpy array of 3*3 matrix containing zeros only\n",
    "\n",
    "import numpy\n",
    "\n",
    "\n",
    "zero_array = numpy.zeros((3, 3))        # Creating the numpy array of 3*3 matrix containing zeros only\n",
    "\n",
    "print(f'The numpy array of 3*3 matrix containing zeros only is as follows :-\\n\\n{zero_array}')        # Printing the numpy array of 3*3 matrix containing zeros only"
   ]
  },
  {
   "cell_type": "code",
   "execution_count": 6,
   "id": "591698be-00ae-4939-80e6-c5c21a3ba95d",
   "metadata": {},
   "outputs": [
    {
     "name": "stdout",
     "output_type": "stream",
     "text": [
      "The identity matrix of shape (5,5) is as follows :-\n",
      "\n",
      "[[1. 0. 0. 0. 0.]\n",
      " [0. 1. 0. 0. 0.]\n",
      " [0. 0. 1. 0. 0.]\n",
      " [0. 0. 0. 1. 0.]\n",
      " [0. 0. 0. 0. 1.]]\n"
     ]
    }
   ],
   "source": [
    "#Q6. Code to create identity matrix of shape (5,5)\n",
    "\n",
    "import numpy\n",
    "\n",
    "\n",
    "zero_array = numpy.eye(5)        # Creating the identity matrix of shape (5,5)\n",
    "\n",
    "print(f'The identity matrix of shape (5,5) is as follows :-\\n\\n{zero_array}')        # Printing the identity matrix of shape (5,5)"
   ]
  }
 ],
 "metadata": {
  "kernelspec": {
   "display_name": "Python 3 (ipykernel)",
   "language": "python",
   "name": "python3"
  },
  "language_info": {
   "codemirror_mode": {
    "name": "ipython",
    "version": 3
   },
   "file_extension": ".py",
   "mimetype": "text/x-python",
   "name": "python",
   "nbconvert_exporter": "python",
   "pygments_lexer": "ipython3",
   "version": "3.10.8"
  }
 },
 "nbformat": 4,
 "nbformat_minor": 5
}
