{
 "cells": [
  {
   "cell_type": "code",
   "execution_count": 1,
   "id": "a1a47a72-bdc6-444c-95e6-259301ce2f04",
   "metadata": {},
   "outputs": [],
   "source": [
    "#Q1. Creating a vehicle class with an init method having instance variables as name_of_vehicle, max_speed and average_of_vehicle\n",
    "\n",
    "class vehicle:\n",
    "    \n",
    "    def __init__(self, name_of_vehicle, max_speed, average_of_vehicle):\n",
    "        \n",
    "        self.name_of_vehicle = name_of_vehicle\n",
    "        self.max_speed = max_speed\n",
    "        self.average_of_vehicle = average_of_vehicle\n",
    "        "
   ]
  },
  {
   "cell_type": "code",
   "execution_count": 2,
   "id": "cc9544c5-6611-49e8-a3b8-872416a17bfb",
   "metadata": {},
   "outputs": [
    {
     "data": {
      "text/plain": [
       "'The vehicle is Sedan with a seating capacity of 4.'"
      ]
     },
     "execution_count": 2,
     "metadata": {},
     "output_type": "execute_result"
    }
   ],
   "source": [
    "#Q2. Creating a child class car from the vehicle class. Creating a method named seating_capacity which takes capacity as an argument and returns the name of the vehicle and its seating capacity\n",
    "\n",
    "class car(vehicle):\n",
    "    \n",
    "    def seating_capacity(self, capacity):\n",
    "        \n",
    "        return f'The vehicle is {self.name_of_vehicle} with a seating capacity of {capacity}.'\n",
    "\n",
    "\n",
    "vehicle_1 = car('Sedan', 240, 29)\n",
    "vehicle_1.seating_capacity(4)\n"
   ]
  },
  {
   "cell_type": "code",
   "execution_count": 3,
   "id": "9d22057d-e2cc-4973-b1b7-c6929f8366ff",
   "metadata": {},
   "outputs": [
    {
     "name": "stdout",
     "output_type": "stream",
     "text": [
      "Father's name is Rahul.\n",
      "Mother's name is Sangita.\n",
      "Rahul and Sangita gave birth to this child.\n"
     ]
    }
   ],
   "source": [
    "#Q3. Definition of multiple inheritance with example\n",
    "\n",
    "'''\n",
    "When a child class inherits from two or more parent classes, then we call it multiple inheritance. This newly \n",
    "derived child class will inherit the properties of all the classes that it is derived from. A real \n",
    "life example would be - a child inheriting properties of the father and mother.\n",
    "'''\n",
    "\n",
    "# Example:-\n",
    "\n",
    "class father:\n",
    "    \n",
    "    father_name = ''\n",
    "    \n",
    "    def show_father(self):\n",
    "        \n",
    "        print(f\"Father's name is {self.father_name}.\")\n",
    "    \n",
    "\n",
    "class mother:\n",
    "    \n",
    "    mother_name = ''\n",
    "    \n",
    "    def show_mother(self):\n",
    "        \n",
    "        print(f\"Mother's name is {self.mother_name}.\")\n",
    "    \n",
    "class child(father, mother):\n",
    "    \n",
    "    def show_child(self):\n",
    "        \n",
    "        super().__init__()\n",
    "        print(f'{self.father_name} and {self.mother_name} gave birth to this child.')\n",
    "    \n",
    "son_1 = child()\n",
    "\n",
    "son_1.father_name = 'Rahul'\n",
    "son_1.mother_name = 'Sangita'\n",
    "\n",
    "son_1.show_father()\n",
    "son_1.show_mother()\n",
    "son_1.show_child()\n"
   ]
  },
  {
   "cell_type": "code",
   "execution_count": 4,
   "id": "3f1c9504-dca8-46ee-b70a-0737f36883c1",
   "metadata": {},
   "outputs": [
    {
     "name": "stdout",
     "output_type": "stream",
     "text": [
      "Name of student: Sampoorna\n",
      "Student id: 19801\n",
      "Current student yearly fees: 2000\n",
      "\n",
      " -------------- Thank You -------------- \n",
      "\n",
      "Name of student: Sampoorna\n",
      "Student id: 19801\n",
      "Current student yearly fees: 2000\n",
      "\n",
      " -------------- Thank You -------------- \n",
      "\n",
      "Name of student: Sampoorna\n",
      "Student id: 19801\n",
      "Current student yearly fees: 2400\n",
      "\n",
      " -------------- Thank You -------------- \n",
      "\n"
     ]
    }
   ],
   "source": [
    "#Q4. Definition of getter and setter with example\n",
    "\n",
    "'''\n",
    "A getter is a method that allows us to access an attribute in a given class.\n",
    "\n",
    "A setter is a method that helps us to mutate/change the value of an attribute in a class.\n",
    "'''\n",
    "\n",
    "# Example:-\n",
    "\n",
    "class student:\n",
    "    \n",
    "    def __init__(self, student_name, student_id, student_fees):\n",
    "        \n",
    "        self.student_name = student_name\n",
    "        self.__student_id = student_id\n",
    "        self.__student_fees = student_fees\n",
    "    \n",
    "    @property                                                          # Getter \n",
    "    def student_details_access(self):\n",
    "        \n",
    "        print(f'Name of student: {self.student_name}')\n",
    "        print(f'Student id: {self.__student_id}')\n",
    "        print(f'Current student yearly fees: {self.__student_fees}')\n",
    "        print('\\n -------------- Thank You -------------- \\n')\n",
    "        \n",
    "    @student_details_access.setter                                     # Setter\n",
    "    def student_fees_setter(self, fees):\n",
    "        \n",
    "        if fees > self._student__student_fees:\n",
    "            self.__student_fees = fees\n",
    "        \n",
    "\n",
    "stu_1 = student('Sampoorna', 19801, 2000)\n",
    "\n",
    "stu_1.student_details_access\n",
    "\n",
    "stu_1.student_fees_setter = 1800\n",
    "stu_1.student_details_access\n",
    "\n",
    "stu_1.student_fees_setter = 2400\n",
    "stu_1.student_details_access"
   ]
  },
  {
   "cell_type": "code",
   "execution_count": 5,
   "id": "391552f3-2d16-4f11-ae03-085b5abf2f13",
   "metadata": {},
   "outputs": [
    {
     "name": "stdout",
     "output_type": "stream",
     "text": [
      "There are many types of mammals.\n",
      "Most vertebrates do not lay eggs but some do.\n",
      "\n",
      " ----------------------------------------- \n",
      "\n",
      "There are many types of mammals.\n",
      "They do not lay eggs.\n",
      "\n",
      " ----------------------------------------- \n",
      "\n",
      "There are many types of mammals.\n",
      "They lay eggs.\n",
      "\n",
      " ----------------------------------------- \n",
      "\n"
     ]
    },
    {
     "data": {
      "text/plain": [
       "\"\\nIn the above example, the function of the child classes 'egg_laying' overrides the 'egg_laying' function of\\nthe parent class when the obejct of the child class calls the particular function.\\n\""
      ]
     },
     "execution_count": 5,
     "metadata": {},
     "output_type": "execute_result"
    }
   ],
   "source": [
    "#Q5. Method overriding in Python with example\n",
    "\n",
    "'''\n",
    "Two or more methods having the same name but different numbers of parameters or different \n",
    "types of parameters, or both. These methods are called overloaded methods and this process is \n",
    "called method overloading.\n",
    "\n",
    "Method Overriding allows us to change the implementation of a function in the child class \n",
    "which is defined in the parent class. It also enhances the code adding some additional properties.\n",
    "'''\n",
    "\n",
    "# Example:-\n",
    "\n",
    "class mammal:\n",
    "    \n",
    "    def __str__(self):\n",
    "        return \"There are many types of mammals.\"\n",
    "     \n",
    "    def egg_laying(self):\n",
    "        print(\"Most vertebrates do not lay eggs but some do.\")\n",
    "        \n",
    "        \n",
    "class dog(mammal):\n",
    "    \n",
    "    def egg_laying(self):\n",
    "        print(\"They do not lay eggs.\")\n",
    "    \n",
    "\n",
    "class platypus(mammal):\n",
    "    \n",
    "    def egg_laying(self):\n",
    "        print(\"They lay eggs.\")\n",
    "\n",
    "\n",
    "obj_mammal = mammal()\n",
    "obj_dog = dog()\n",
    "obj_platypus = platypus()\n",
    "\n",
    "print(obj_mammal)\n",
    "obj_mammal.egg_laying()\n",
    "print('\\n ----------------------------------------- \\n')\n",
    "\n",
    "print(obj_dog)\n",
    "obj_dog.egg_laying()\n",
    "print('\\n ----------------------------------------- \\n')\n",
    "\n",
    "print(obj_platypus)\n",
    "obj_platypus.egg_laying()\n",
    "print('\\n ----------------------------------------- \\n')\n",
    "\n",
    "'''\n",
    "In the above example, the function of the child classes 'egg_laying' overrides the 'egg_laying' function of\n",
    "the parent class when the obejct of the child class calls the particular function.\n",
    "'''"
   ]
  }
 ],
 "metadata": {
  "kernelspec": {
   "display_name": "Python 3 (ipykernel)",
   "language": "python",
   "name": "python3"
  },
  "language_info": {
   "codemirror_mode": {
    "name": "ipython",
    "version": 3
   },
   "file_extension": ".py",
   "mimetype": "text/x-python",
   "name": "python",
   "nbconvert_exporter": "python",
   "pygments_lexer": "ipython3",
   "version": "3.10.8"
  }
 },
 "nbformat": 4,
 "nbformat_minor": 5
}
