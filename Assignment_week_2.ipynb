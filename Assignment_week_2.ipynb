{
 "cells": [
  {
   "cell_type": "code",
   "execution_count": 1,
   "id": "e8f45f07-7b84-46fa-b374-3baf07396fec",
   "metadata": {},
   "outputs": [
    {
     "name": "stdout",
     "output_type": "stream",
     "text": [
      " Any large string can be used here as a comment. \n"
     ]
    }
   ],
   "source": [
    "#Q1. Commenting in python and different types of commenting available in Python\n",
    "\n",
    "\"\"\"\n",
    "Comments in python can be identified using a #(hash) symbol, which makes the comments \n",
    "extend to the end of the line. Hash characters in a string are not considered comments.\n",
    "\n",
    "There are three ways to write a comment:\n",
    "\n",
    "* As a separate line,\n",
    "* Beside the corresponding statement of code, or \n",
    "* As a multi-line comment block\n",
    "\"\"\"\n",
    "\n",
    "# This is an example of a single line comment\n",
    "\n",
    "\n",
    "a = 10 # This is an example of commenting beside a line of code\n",
    "\n",
    "\n",
    "# This is how\n",
    "# we write multi-line \n",
    "# comments by using the hash symbol\n",
    "# at the beginning of each new line\n",
    "\n",
    "\n",
    "\"\"\"\n",
    "This is a multi-line comment block \n",
    "using single (') or double (\") quotes, three times\n",
    "before and after the comment block.\n",
    "\"\"\"\n",
    "\n",
    "\n",
    "# We can also comment using a built-in function like docstrings for commenting on modules, methods, functions, objects, and classes.\n",
    "\n",
    "# Example:-\n",
    "\n",
    "def my_string():\n",
    "    \n",
    "    ''' Any large string can be used here as a comment. '''\n",
    "    return None\n",
    "\n",
    "print(my_string.__doc__)"
   ]
  },
  {
   "cell_type": "code",
   "execution_count": 2,
   "id": "82281667-790b-4fc4-b840-65c0034e4997",
   "metadata": {},
   "outputs": [],
   "source": [
    "#Q2. Defining, declaring and assigning values to variables in Python\n",
    "\n",
    "\"\"\"\n",
    "Varibles can be defined as containers that can store/ hold values. It is a name given to a \n",
    "memory location. It is the basic unit of storage in a program.\n",
    "\n",
    "Varibles in python are not 'statically types'. We do not need to declare variables before using them \n",
    "or declare their type. A variable is created the moment we first assign a value to it. Python variable names \n",
    "are case sensitive, can contain only alphanumeric characters and underscores. They cannot start with a \n",
    "number. Reserved words in Python cannot be used to name the variable in Python.\n",
    "\n",
    "In order to assign values to a varible we use the equal to (=) sign.\n",
    "\"\"\"\n",
    "\n",
    "# Examples:-\n",
    "\n",
    "# An integer assignment\n",
    "age = 19\n",
    " \n",
    "# A floating point assignment\n",
    "salary = 1456.8\n",
    " \n",
    "# A string assignment\n",
    "name = \"Sampoorna Basak\"\n",
    "\n",
    "# A boolean assignment\n",
    "learning = True\n"
   ]
  },
  {
   "cell_type": "code",
   "execution_count": 3,
   "id": "7b5c9edd-4b66-4cc3-b197-49f7e1f80f4c",
   "metadata": {},
   "outputs": [
    {
     "name": "stdout",
     "output_type": "stream",
     "text": [
      "<class 'int'>\n",
      "<class 'str'>\n"
     ]
    }
   ],
   "source": [
    "#Q3. Converting one data type to another in Python\n",
    "\n",
    "\"\"\"\n",
    "We can convert one data type to another using type casting/ type conversion. Python supports \n",
    "a wide variety of functions or methods like: int(), float(), str(), \n",
    "tuple(), set(), list(), dict(), etc. for the type casting in python.\n",
    "\"\"\"\n",
    "\n",
    "#Example\n",
    "\n",
    "num = 427\n",
    "print(type(num))\n",
    "\n",
    "num_in_s = str(num) # Type casting an interger to string\n",
    "print(type(num_in_s))"
   ]
  },
  {
   "cell_type": "code",
   "execution_count": 4,
   "id": "e0bac5eb-8a2c-459c-a56b-97917de7884e",
   "metadata": {},
   "outputs": [
    {
     "data": {
      "text/plain": [
       "'\\nWe can write and execute python code directly from command terminal if python is downloaded onto the machine.\\nAfter opening command terminal and verfying prescence of python on our local computer, we can activate \\npython by typing \\'python\\' into the terminal and pressing enter. \">>>\" will appear and we can start typing our\\npython code and press enter to execute it.\\n'"
      ]
     },
     "execution_count": 4,
     "metadata": {},
     "output_type": "execute_result"
    }
   ],
   "source": [
    "#Q4. Writing and executing a Python script from the command line\n",
    "\n",
    "\"\"\"\n",
    "We can write and execute python code directly from command terminal if python is downloaded onto the machine.\n",
    "After opening command terminal and verfying prescence of python on our local computer, we can activate \n",
    "python by typing 'python' into the terminal and pressing enter. \">>>\" will appear and we can start typing our\n",
    "python code and press enter to execute it.\n",
    "\"\"\""
   ]
  },
  {
   "cell_type": "code",
   "execution_count": 5,
   "id": "6e6e88af-3db1-4743-bec1-e98071fca2a7",
   "metadata": {},
   "outputs": [
    {
     "data": {
      "text/plain": [
       "[2, 3]"
      ]
     },
     "execution_count": 5,
     "metadata": {},
     "output_type": "execute_result"
    }
   ],
   "source": [
    "#Q5. Splicing a sub-set from a given list; my_list = [1, 2, 3, 4, 5]\n",
    "\n",
    "# The given list\n",
    "my_list = [1, 2, 3, 4, 5]\n",
    "\n",
    "# Splicing the given list to obtain the required sub-list\n",
    "my_list[1:3]"
   ]
  },
  {
   "cell_type": "code",
   "execution_count": 6,
   "id": "30b585e1-f2a3-4b9e-b5c4-97199b4c55fa",
   "metadata": {},
   "outputs": [
    {
     "name": "stdout",
     "output_type": "stream",
     "text": [
      "<class 'complex'>\n"
     ]
    }
   ],
   "source": [
    "#Q6. Complex number in mathematics and their representation in Python\n",
    "\n",
    "\"\"\"\n",
    "Complex numbers in mathematics are in the form of a+ib, where, a,b are real numbers \n",
    "and  ‘i’ is an imaginary number called “iota”. The value of i = (√-1). For example,\n",
    "in 3+2i, '3' is the real number and '2i' is the imaginary number.\n",
    "\"\"\"\n",
    "\n",
    "# Representation of the above example in Python\n",
    "\n",
    "c = 3 + 2j\n",
    "print(type(c))"
   ]
  },
  {
   "cell_type": "code",
   "execution_count": 7,
   "id": "091c6727-d9e0-4eae-9c05-4c6cbefc8313",
   "metadata": {},
   "outputs": [
    {
     "data": {
      "text/plain": [
       "25"
      ]
     },
     "execution_count": 7,
     "metadata": {},
     "output_type": "execute_result"
    }
   ],
   "source": [
    "#Q7. Correct way to declare a variable named 'age' and assigning the value 25 to it\n",
    "\n",
    "\"\"\"\n",
    "The correct way to declare a variable named 'age' would be to write the variable name as 'age', \n",
    "keeping in mind to not write any numbers in the beginning or any special characters anywhere in the variable name.\n",
    "Neither we need to declare its data type as python implicitely assigns its type once we declare it.\n",
    "\"\"\"\n",
    "\n",
    "age = 25 # Assigning value to var 'age'\n",
    "\n",
    "age"
   ]
  },
  {
   "cell_type": "code",
   "execution_count": 8,
   "id": "cf04df53-47d0-459c-8e52-b579504d0e6c",
   "metadata": {},
   "outputs": [
    {
     "name": "stdout",
     "output_type": "stream",
     "text": [
      "<class 'float'>\n"
     ]
    }
   ],
   "source": [
    "#Q8. Declaring a variable named 'price' and assigning value 9.99 to it\n",
    "\n",
    "price = 9.99 # Value assignment\n",
    "\n",
    "print(type(price)) # To show the variable 'price' belongs to float data type\n"
   ]
  },
  {
   "cell_type": "code",
   "execution_count": 9,
   "id": "658e2722-a4ba-47e7-98f6-838779b410c6",
   "metadata": {},
   "outputs": [
    {
     "name": "stdout",
     "output_type": "stream",
     "text": [
      "My name is Sampoorna Basak. Nice to meet you.\n"
     ]
    }
   ],
   "source": [
    "#Q9. Creating a varible named 'name', assigning a string to it and printing the variable within it\n",
    "\n",
    "name = \"Sampoorna Basak\" # Declaration and value assignment to 'name'\n",
    "\n",
    "print(f'My name is {name}. Nice to meet you.') # Printing the value of the variable name in a formatted string"
   ]
  },
  {
   "cell_type": "code",
   "execution_count": 10,
   "id": "d0187c4e-235f-4ddb-bd16-cf9a0f5c8c8b",
   "metadata": {},
   "outputs": [
    {
     "data": {
      "text/plain": [
       "'World'"
      ]
     },
     "execution_count": 10,
     "metadata": {},
     "output_type": "execute_result"
    }
   ],
   "source": [
    "#Q10. Extracting the sub-string \"World\" from given string \"Hello, World!\"\n",
    "\n",
    "given_string = \"Hello, World!\"\n",
    "\n",
    "given_string[7:12] # Sub-string extraction"
   ]
  },
  {
   "cell_type": "code",
   "execution_count": 11,
   "id": "9b627917-8f5b-4d13-bdef-0d93589aed8d",
   "metadata": {},
   "outputs": [
    {
     "data": {
      "text/plain": [
       "True"
      ]
     },
     "execution_count": 11,
     "metadata": {},
     "output_type": "execute_result"
    }
   ],
   "source": [
    "#Q11. Creating variable named 'is_student' and assigning a boolean value to it\n",
    "\n",
    "is_student = True # Declaration and value assignment to 'is_student'\n",
    "\n",
    "is_student"
   ]
  }
 ],
 "metadata": {
  "kernelspec": {
   "display_name": "Python 3 (ipykernel)",
   "language": "python",
   "name": "python3"
  },
  "language_info": {
   "codemirror_mode": {
    "name": "ipython",
    "version": 3
   },
   "file_extension": ".py",
   "mimetype": "text/x-python",
   "name": "python",
   "nbconvert_exporter": "python",
   "pygments_lexer": "ipython3",
   "version": "3.10.8"
  },
  "toc-autonumbering": true,
  "toc-showcode": true,
  "toc-showmarkdowntxt": false
 },
 "nbformat": 4,
 "nbformat_minor": 5
}
