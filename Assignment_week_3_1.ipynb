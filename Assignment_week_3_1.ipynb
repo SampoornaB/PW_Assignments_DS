{
 "cells": [
  {
   "cell_type": "code",
   "execution_count": 1,
   "id": "b1fef46a-d644-4f33-8abe-98fc97a188ab",
   "metadata": {},
   "outputs": [
    {
     "name": "stdout",
     "output_type": "stream",
     "text": [
      "[1, 3, 5, 7, 9, 11, 13, 15, 17, 19, 21, 23, 25]\n"
     ]
    }
   ],
   "source": [
    "#Q1. Keyword used to create a function and creating a a function to return a list of odd numbers in the range of 1 to 25\n",
    "\n",
    "''' The keyword 'def' is used to create a function. '''\n",
    "\n",
    "# Function to return a list of odd numbers between 1 and 25.\n",
    "\n",
    "def odd_nums(start, end):\n",
    "    \n",
    "    return [i for i in range(start, end + 1) if i % 2 != 0]\n",
    "\n",
    "\n",
    "print(odd_nums(1, 25)) "
   ]
  },
  {
   "cell_type": "code",
   "execution_count": 2,
   "id": "43b083ef-417d-4e29-9756-8187388c4fc5",
   "metadata": {},
   "outputs": [
    {
     "name": "stdout",
     "output_type": "stream",
     "text": [
      "235\n",
      "171\n",
      "{'type': 'sedan', 'year': 2009, 'model': 'XC12'}\n"
     ]
    }
   ],
   "source": [
    "#Q2. Usage of *args and **kwargs along with examples to demonstrate their usage\n",
    "\n",
    "'''\n",
    "We use the “wildcard” or “*” notation like this, '*args' or '**kwargs', as our function’s argument \n",
    "when we do not know about the number of arguments we have to pass in a function.\n",
    "'''\n",
    "\n",
    "'''\n",
    "The special syntax '*args' in function definitions in Python is used to pass a variable number \n",
    "of arguments to a function. It is used to pass a non-keyworded, variable-length argument list.\n",
    "'''\n",
    "\n",
    "# Example:-\n",
    "\n",
    "def adder(*args):\n",
    "    \n",
    "    print(sum(args))\n",
    "\n",
    "adder(24, 21, 35, 90, 65)\n",
    "adder(78, 93)\n",
    "\n",
    "\n",
    "'''\n",
    "The special syntax '**kwargs' in function definitions in Python is \n",
    "used to pass a keyworded, variable-length argument list.\n",
    "'''\n",
    "\n",
    "# Example:-\n",
    "\n",
    "def func(**kwargs):\n",
    "    \n",
    "    print(kwargs)\n",
    "    \n",
    "func(type='sedan', year=2009, model='XC12')"
   ]
  },
  {
   "cell_type": "code",
   "execution_count": 3,
   "id": "1ca12a65-b738-4615-9b44-e36387eeef21",
   "metadata": {},
   "outputs": [
    {
     "name": "stdout",
     "output_type": "stream",
     "text": [
      "2\n",
      "4\n",
      "6\n",
      "8\n",
      "10\n"
     ]
    }
   ],
   "source": [
    "#Q3. Defining an iterator and the methods used, thus printing the first 5 elements of the given list [2, 4, 6, 8, 10, 12, 14, 16, 18, 20]\n",
    "\n",
    "'''\n",
    "In Python, an iterator is an object that allows us to iterate over collections of data (any iterable), \n",
    "such as lists, tuples, dictionaries, strings and sets.\n",
    "\n",
    "Iterators take responsibility for two main actions:\n",
    "\n",
    "* Returning the data from a stream or container one item at a time\n",
    "* Keeping track of the current and visited items\n",
    "\n",
    "\n",
    "The method 'iter()' is used to initialise an iterator object, while the method 'next()' is used to iterate through the iterator. \n",
    "It returns the next value in the data stream.\n",
    "'''\n",
    "\n",
    "# Using iter() and next() to print the first five elements of the given list\n",
    "\n",
    "lst_1 = [2, 4, 6, 8, 10, 12, 14, 16, 18, 20]\n",
    "\n",
    "lst_iter_1 = iter(lst_1)\n",
    "\n",
    "i = 0\n",
    "\n",
    "while i < 5:\n",
    "    \n",
    "    print(next(lst_iter_1))\n",
    "    i += 1"
   ]
  },
  {
   "cell_type": "code",
   "execution_count": 4,
   "id": "d025f709-2998-4237-90a8-9126a2e18b6e",
   "metadata": {},
   "outputs": [
    {
     "name": "stdout",
     "output_type": "stream",
     "text": [
      "<generator object fib_seq_gen at 0x7f1ed3f49b60>\n",
      "[0, 1, 1, 2, 3, 5, 8, 13, 21, 34]\n",
      "<generator object num_pow_gen at 0x7f1ed3f49b60>\n",
      "[1, 8, 27, 64, 125]\n"
     ]
    }
   ],
   "source": [
    "#Q4. Defining a generator function and stating the use of keyword 'yield' with an example\n",
    "\n",
    "'''\n",
    "Generator functions are special types of functions that allow you to create iterators using a functional style. \n",
    "Unlike regular functions, which typically compute a value and return it to the caller, generator functions return a \n",
    "generator iterator that yields a stream of data one value at a time, upon calling.\n",
    "\n",
    "We use the 'yield' keyword to yield the values one by one from the generator function.\n",
    "'''\n",
    "\n",
    "# Examples:-\n",
    "\n",
    "def fib_seq_gen(end):\n",
    "    \n",
    "    ''' Function for finding fibonacci numbers. '''\n",
    "    \n",
    "    fir_st, sec_nd = 0, 1\n",
    "    \n",
    "    for _ in range(end):\n",
    "        \n",
    "        fib_num = fir_st\n",
    "        yield fib_num\n",
    "        fir_st, sec_nd = sec_nd, fib_num + sec_nd\n",
    "        \n",
    "\n",
    "print(fib_seq_gen(10))\n",
    "print(list(fib_seq_gen(10)))\n",
    "\n",
    "\n",
    "\n",
    "def num_pow_gen(end, power):\n",
    "    \n",
    "    ''' Function for finding sequence of integers raised by a certain power. '''\n",
    "\n",
    "    for i in range(1, end + 1):\n",
    "        \n",
    "        yield i**power \n",
    "\n",
    "        \n",
    "print(num_pow_gen(5, 3))\n",
    "print(list(num_pow_gen(5, 3)))"
   ]
  },
  {
   "cell_type": "code",
   "execution_count": 5,
   "id": "20fab859-5b89-4967-b867-96047763744a",
   "metadata": {},
   "outputs": [
    {
     "name": "stdout",
     "output_type": "stream",
     "text": [
      "2\n",
      "3\n",
      "5\n",
      "7\n",
      "11\n",
      "13\n",
      "17\n",
      "19\n",
      "23\n",
      "29\n",
      "31\n",
      "37\n",
      "41\n",
      "43\n",
      "47\n",
      "53\n",
      "59\n",
      "61\n",
      "67\n",
      "71\n"
     ]
    }
   ],
   "source": [
    "#Q5. Creating a generator function for prime numbers less than 1000 and using next() function to print the first 20 prime numbers\n",
    "\n",
    "import math\n",
    "\n",
    "def prim_num_gen(end):\n",
    "    \n",
    "    for num in range(2, end + 1):\n",
    "        \n",
    "        counter = sum(1 for i in range(1, int(math.sqrt(num)) + 1) if num % i == 0)\n",
    "        if counter == 1:\n",
    "            yield num\n",
    "\n",
    "nums = iter(prim_num_gen(1000))\n",
    "\n",
    "for _ in range(20):\n",
    "    print(next(nums))"
   ]
  }
 ],
 "metadata": {
  "kernelspec": {
   "display_name": "Python 3 (ipykernel)",
   "language": "python",
   "name": "python3"
  },
  "language_info": {
   "codemirror_mode": {
    "name": "ipython",
    "version": 3
   },
   "file_extension": ".py",
   "mimetype": "text/x-python",
   "name": "python",
   "nbconvert_exporter": "python",
   "pygments_lexer": "ipython3",
   "version": "3.10.8"
  }
 },
 "nbformat": 4,
 "nbformat_minor": 5
}
