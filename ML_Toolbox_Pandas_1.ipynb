{
 "cells": [
  {
   "cell_type": "code",
   "execution_count": 1,
   "id": "90d6bc6e-be5c-44d9-a20a-6af33636cfaa",
   "metadata": {},
   "outputs": [
    {
     "name": "stdout",
     "output_type": "stream",
     "text": [
      "0     4\n",
      "1     8\n",
      "2    15\n",
      "3    16\n",
      "4    23\n",
      "5    42\n",
      "dtype: int64\n"
     ]
    }
   ],
   "source": [
    "#Q1. Creating and printing a Pandas Series with custom input\n",
    "\n",
    "import pandas\n",
    "import numpy\n",
    "\n",
    "arr = numpy.array([4, 8, 15, 16, 23, 42])\n",
    "ser = pandas.Series(arr)\n",
    "\n",
    "print(ser)"
   ]
  },
  {
   "cell_type": "code",
   "execution_count": 2,
   "id": "92d568c0-a8c6-4f63-ab7b-7b7270da4b34",
   "metadata": {},
   "outputs": [
    {
     "name": "stdout",
     "output_type": "stream",
     "text": [
      "0      grenadine\n",
      "1    pomegranate\n",
      "2          hefty\n",
      "3      gladiolus\n",
      "4         pelter\n",
      "5     concretize\n",
      "6        manikin\n",
      "7        canvass\n",
      "8       lubberly\n",
      "9        cordial\n",
      "dtype: object\n"
     ]
    }
   ],
   "source": [
    "#Q2. Creating a list containing 10 elements, converting into a Pandas Series and finally printing it\n",
    "\n",
    "import pandas\n",
    "\n",
    "lst = ['grenadine', 'pomegranate', 'hefty', 'gladiolus', 'pelter', 'concretize', 'manikin', 'canvass', 'lubberly', 'cordial']\n",
    "ser = pandas.Series(lst)\n",
    "\n",
    "print(ser)"
   ]
  },
  {
   "cell_type": "code",
   "execution_count": 3,
   "id": "91d76e7d-1f56-4855-beff-3441f8bd74ba",
   "metadata": {},
   "outputs": [
    {
     "name": "stdout",
     "output_type": "stream",
     "text": [
      "     Name  Age  Gender\n",
      "0   Alice   25  Female\n",
      "1     Bob   30    Male\n",
      "2  Claire   27  Female\n"
     ]
    }
   ],
   "source": [
    "#Q3. Creating a Pandas DataFrame which contains a custom table and printing it\n",
    "\n",
    "import pandas\n",
    "\n",
    "dictr = {'Name': ['Alice', 'Bob', 'Claire'] , \n",
    "         'Age': [25, 30, 27], \n",
    "         'Gender': ['Female', 'Male', 'Female']}\n",
    "\n",
    "df = pandas.DataFrame(dictr)\n",
    "\n",
    "print(df)"
   ]
  },
  {
   "cell_type": "code",
   "execution_count": 4,
   "id": "dc56fa5f-a4e4-4948-aaff-ce0fa1ed4d28",
   "metadata": {},
   "outputs": [],
   "source": [
    "#Q4. Defining a Pandas DataFrame and how it differs from Pandas Series along with examples"
   ]
  },
  {
   "attachments": {
    "5f7bb687-0e74-4bb8-93be-4524e34e6097.png": {
     "image/png": "[encoded data removed]"
    },
    "737acd70-b530-4563-94a4-68b8d781287a.png": {
     "image/png": "[encoded data removed]"
    }
   },
   "cell_type": "markdown",
   "id": "3bc25365-475d-460c-80d0-d90ff71a8f89",
   "metadata": {},
   "source": [
    "### Pandas Dataframe :-\n",
    "\n",
    "Pandas DataFrame is two-dimensional, size-mutable, usually heterogeneous tabular data structure with labeled axes(rows and columns). It is a two-dimensional data structure, i.e., the data is aligned in a tabular fashion in rows and columns. Pandas DataFrame consists of three principal components, the <b>data</b>, <b>rows</b>, and <b>columns</b>.\n",
    "\n",
    "For example :-\n",
    "\n",
    "![image.png](attachment:5f7bb687-0e74-4bb8-93be-4524e34e6097.png)\n",
    "\n",
    "### Pandas Series :-\n",
    "\n",
    "A Pandas Series in Python is a one-dimensional labelled array which may hold any form of data(integer, float, string, etc.). It resembles a table in a database or a column in a spreadsheet. Each component of a series has a unique identification due to each component having a unique index.\n",
    "\n",
    "For example :-\n",
    "\n",
    "![image.png](attachment:737acd70-b530-4563-94a4-68b8d781287a.png)\n",
    "\n",
    "### A few differences between Dataframe and Series :-\n",
    "\n",
    "Although a Pandas Series and a Pandas DataFrame have many similarities, there are some key differences between the two data structures.\n",
    "\n",
    "|Pandas Series|Pandas DataFrame|\n",
    "|---|---|\n",
    "|One-dimensional data structure containing only one data column with each element bound to a specific index|Two-dimensional data structure containing both data columns and indexes|\n",
    "|Homogenous in nature – Series elements are of the same data type|Heterogenous in nature – DataFrame elements can have different data types in the same tabular format|\n",
    "|Size is immutable in nature – Once created, the size of a Series object cannot be changed|Size is mutable in nature – Elements can be dropped or added in an existing DataFrame|"
   ]
  },
  {
   "cell_type": "code",
   "execution_count": 5,
   "id": "72fa491a-91c2-47f9-94d2-094d5ecb8d87",
   "metadata": {},
   "outputs": [],
   "source": [
    "#Q5. Some common functions we can use to manipulate data in a Pandas DataFrame and their usage"
   ]
  },
  {
   "cell_type": "markdown",
   "id": "e054f924-a7d0-4b0f-ab9a-847ca609266b",
   "metadata": {},
   "source": [
    "Some common functions that can be used to manipulate data in a Pandas DataFrame are as followes :-\n",
    "\n",
    "* Dataframe.index - We use this function when we want to know about the index (row labels) of the DataFrame.\n",
    "\n",
    "* DataFrame.columns - We use this function when we want to know about the column labels of the DataFrame.\n",
    "\n",
    "* DataFrame.dtypes - Through this we can identify the various data types of the different columns of the DataFrame.\n",
    "\n",
    "* DataFrame.head([n]) - This function helps us to retrieve as many rows we want from the top of the table. By default without any parameters it returns the top 5 rows.\n",
    "\n",
    "* DataFrame.tail([n]) - This function helps us to retrieve as many rows we want from the bottom of the table. By default without any parameters it returns the last 5 rows.\n",
    "\n",
    "* DataFrame.pop(item) - Through this function we can return an item and drop it from the DataFrame.\n",
    "\n",
    "* DataFrame.mask(cond[, other, inplace, axis, ...]) - Through this we can easily replace the values of the table that fit a certain condition. This can be particularly helpful when we want to easily manipulate the data so that we can only obtain the data we want for our specific purposes."
   ]
  },
  {
   "cell_type": "code",
   "execution_count": 6,
   "id": "d4c4b84f-48db-41bf-a1ab-2e0eb9a4fd77",
   "metadata": {},
   "outputs": [],
   "source": [
    "#Q6. Classifying Pandas data structures as mutable or immutable"
   ]
  },
  {
   "cell_type": "markdown",
   "id": "b3217e1c-2dc0-4647-9546-e1226904d3c2",
   "metadata": {},
   "source": [
    "    * Series - Data Mutable, Size Immutable\n",
    "\n",
    "    * DataFrame - Data Mutable, Size Mutable\n",
    "    \n",
    "    * Panel - Data Mutable, Size Mutable\n",
    "    \n",
    "    "
   ]
  },
  {
   "cell_type": "code",
   "execution_count": 7,
   "id": "c8f20de4-9f6f-4d79-88d1-ea73e7a5a845",
   "metadata": {},
   "outputs": [],
   "source": [
    "#Q7. Creating a DataFrame using multiple Series with example"
   ]
  },
  {
   "cell_type": "markdown",
   "id": "195192ec-8029-4d1a-a863-cdeb94e3105a",
   "metadata": {},
   "source": [
    "Series is a one-dimensional labeled array capable of holding any data type stored in sequential order. It is one-column information similar to a columns in an excel sheet/SQL table. Thus we can easily create a Pandas DataFrame from multiple series just by merging them together. We can create a DataFrame from multiple Series objects by adding each series as a columns. By using concat() method we can merge multiple series together into DataFrame. concat() takes in multiple parameters but one of the most imporatant one is 'axis' which is helpful to specify wether the series are going to be merged row-wise or column-wise. We use axis = 1 to specify merge series as columns while using axis = 0 appends series to rows."
   ]
  },
  {
   "cell_type": "code",
   "execution_count": 8,
   "id": "72f2222c-c9d0-472b-b125-22161ab489d7",
   "metadata": {},
   "outputs": [
    {
     "name": "stdout",
     "output_type": "stream",
     "text": [
      "The Courses Series :-\n",
      "\n",
      "0    Data Science Masters\n",
      "1     Website Development\n",
      "2               Marketing\n",
      "dtype: object\n",
      "\n",
      "The Course Fees Series :-\n",
      "\n",
      "0    35000\n",
      "1    15000\n",
      "2    23000\n",
      "dtype: int64\n",
      "\n",
      "The Discount prices Series :-\n",
      "\n",
      "0    1200\n",
      "1     300\n",
      "2    1000\n",
      "dtype: int64\n",
      "\n",
      "The newly formed DataFrame from the above series is :-\n",
      "\n",
      "                Courses  Course Fees  Discount prices\n",
      "0  Data Science Masters        35000             1200\n",
      "1   Website Development        15000              300\n",
      "2             Marketing        23000             1000\n"
     ]
    }
   ],
   "source": [
    "# For Example :-\n",
    "\n",
    "import pandas\n",
    "\n",
    "# Creating Pandas Series\n",
    "\n",
    "courses = pandas.Series([\"Data Science Masters\", \"Website Development\", \"Marketing\"])\n",
    "fees = pandas.Series([35000, 15000, 23000])\n",
    "discount  = pandas.Series([1200, 300, 1000])\n",
    "\n",
    "print(f'The Courses Series :-\\n\\n{courses}\\n')\n",
    "print(f'The Course Fees Series :-\\n\\n{fees}\\n')\n",
    "print(f'The Discount prices Series :-\\n\\n{discount}\\n')\n",
    "\n",
    "# Concating the three series to form a single DataFrame\n",
    "\n",
    "df = pandas.concat({'Courses': courses, 'Course Fees': fees, 'Discount prices': discount}, axis = 1)\n",
    "\n",
    "print('The newly formed DataFrame from the above series is :-\\n')\n",
    "print(df)"
   ]
  }
 ],
 "metadata": {
  "kernelspec": {
   "display_name": "Python 3 (ipykernel)",
   "language": "python",
   "name": "python3"
  },
  "language_info": {
   "codemirror_mode": {
    "name": "ipython",
    "version": 3
   },
   "file_extension": ".py",
   "mimetype": "text/x-python",
   "name": "python",
   "nbconvert_exporter": "python",
   "pygments_lexer": "ipython3",
   "version": "3.10.8"
  }
 },
 "nbformat": 4,
 "nbformat_minor": 5
}
